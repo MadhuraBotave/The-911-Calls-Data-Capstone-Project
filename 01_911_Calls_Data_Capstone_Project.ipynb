{
  "cells": [
    {
      "cell_type": "markdown",
      "metadata": {
        "id": "6M_n8kYtfkbW"
      },
      "source": [
        "# 911 Calls Capstone Project"
      ]
    },
    {
      "cell_type": "markdown",
      "metadata": {
        "id": "f_iBM1gqfkbY"
      },
      "source": [
        "For this capstone project we will be analyzing some 911 call data from [Kaggle](https://www.kaggle.com/mchirico/montcoalert). The data contains the following fields:\n",
        "\n",
        "* lat : String variable, Latitude\n",
        "* lng: String variable, Longitude\n",
        "* desc: String variable, Description of the Emergency Call\n",
        "* zip: String variable, Zipcode\n",
        "* title: String variable, Title\n",
        "* timeStamp: String variable, YYYY-MM-DD HH:MM:SS\n",
        "* twp: String variable, Township\n",
        "* addr: String variable, Address\n",
        "* e: String variable, Dummy variable (always 1)\n",
        "\n",
        "Just go along with this notebook and try to complete the instructions or answer the questions in bold using your Python and Data Science skills!"
      ]
    },
    {
      "cell_type": "markdown",
      "metadata": {
        "id": "gqcin6-efkbY"
      },
      "source": [
        "## Data and Setup"
      ]
    },
    {
      "cell_type": "markdown",
      "metadata": {
        "id": "4pUxrh3GfkbZ"
      },
      "source": [
        "____\n",
        "** Import numpy and pandas **"
      ]
    },
    {
      "cell_type": "code",
      "execution_count": null,
      "metadata": {
        "collapsed": true,
        "id": "EDeIXLa0fkbZ"
      },
      "outputs": [],
      "source": [
        "import numpy as np\n",
        "import pandas as pd"
      ]
    },
    {
      "cell_type": "markdown",
      "metadata": {
        "id": "_aGRC8YHfkbZ"
      },
      "source": [
        "** Import visualization libraries and set %matplotlib inline. **"
      ]
    },
    {
      "cell_type": "code",
      "execution_count": null,
      "metadata": {
        "id": "CXKG4faHfkbZ"
      },
      "outputs": [],
      "source": [
        "import matplotlib.pyplot as plt\n",
        "import seaborn as sns"
      ]
    },
    {
      "cell_type": "markdown",
      "metadata": {
        "id": "sIFIn3NwfkbZ"
      },
      "source": [
        "** Read in the csv file as a dataframe called df **"
      ]
    },
    {
      "cell_type": "code",
      "execution_count": null,
      "metadata": {
        "collapsed": true,
        "id": "bz__ps_Zfkba"
      },
      "outputs": [],
      "source": [
        "df=pd.read_csv('911.csv')"
      ]
    },
    {
      "cell_type": "markdown",
      "metadata": {
        "id": "Me_9PMnkfkba"
      },
      "source": [
        "** Check the info() of the df **"
      ]
    },
    {
      "cell_type": "code",
      "execution_count": null,
      "metadata": {
        "colab": {
          "base_uri": "https://localhost:8080/"
        },
        "id": "9frhGmZdfkba",
        "outputId": "1ad02017-5ffb-4328-db81-395af46ebd31"
      },
      "outputs": [
        {
          "output_type": "stream",
          "name": "stdout",
          "text": [
            "<class 'pandas.core.frame.DataFrame'>\n",
            "RangeIndex: 99492 entries, 0 to 99491\n",
            "Data columns (total 9 columns):\n",
            " #   Column     Non-Null Count  Dtype  \n",
            "---  ------     --------------  -----  \n",
            " 0   lat        99492 non-null  float64\n",
            " 1   lng        99492 non-null  float64\n",
            " 2   desc       99492 non-null  object \n",
            " 3   zip        86637 non-null  float64\n",
            " 4   title      99492 non-null  object \n",
            " 5   timeStamp  99492 non-null  object \n",
            " 6   twp        99449 non-null  object \n",
            " 7   addr       98973 non-null  object \n",
            " 8   e          99492 non-null  int64  \n",
            "dtypes: float64(3), int64(1), object(5)\n",
            "memory usage: 6.8+ MB\n"
          ]
        }
      ],
      "source": [
        "df.info()"
      ]
    },
    {
      "cell_type": "markdown",
      "metadata": {
        "collapsed": false,
        "id": "uvMh-Xaefkbb"
      },
      "source": [
        "** Check the head of df **"
      ]
    },
    {
      "cell_type": "code",
      "execution_count": null,
      "metadata": {
        "colab": {
          "base_uri": "https://localhost:8080/",
          "height": 510
        },
        "id": "yY4G2lNqfkbb",
        "outputId": "5cb6dd08-7d5f-47f3-ecf6-de7e8f37920a"
      },
      "outputs": [
        {
          "output_type": "execute_result",
          "data": {
            "text/plain": [
              "         lat        lng                                               desc  \\\n",
              "0  40.297876 -75.581294  REINDEER CT & DEAD END;  NEW HANOVER; Station ...   \n",
              "1  40.258061 -75.264680  BRIAR PATH & WHITEMARSH LN;  HATFIELD TOWNSHIP...   \n",
              "2  40.121182 -75.351975  HAWS AVE; NORRISTOWN; 2015-12-10 @ 14:39:21-St...   \n",
              "3  40.116153 -75.343513  AIRY ST & SWEDE ST;  NORRISTOWN; Station 308A;...   \n",
              "4  40.251492 -75.603350  CHERRYWOOD CT & DEAD END;  LOWER POTTSGROVE; S...   \n",
              "\n",
              "       zip                    title            timeStamp                twp  \\\n",
              "0  19525.0   EMS: BACK PAINS/INJURY  2015-12-10 17:40:00        NEW HANOVER   \n",
              "1  19446.0  EMS: DIABETIC EMERGENCY  2015-12-10 17:40:00  HATFIELD TOWNSHIP   \n",
              "2  19401.0      Fire: GAS-ODOR/LEAK  2015-12-10 17:40:00         NORRISTOWN   \n",
              "3  19401.0   EMS: CARDIAC EMERGENCY  2015-12-10 17:40:01         NORRISTOWN   \n",
              "4      NaN           EMS: DIZZINESS  2015-12-10 17:40:01   LOWER POTTSGROVE   \n",
              "\n",
              "                         addr  e  \n",
              "0      REINDEER CT & DEAD END  1  \n",
              "1  BRIAR PATH & WHITEMARSH LN  1  \n",
              "2                    HAWS AVE  1  \n",
              "3          AIRY ST & SWEDE ST  1  \n",
              "4    CHERRYWOOD CT & DEAD END  1  "
            ],
            "text/html": [
              "\n",
              "\n",
              "  <div id=\"df-35eb5751-013c-4322-8719-66cb9e409b09\">\n",
              "    <div class=\"colab-df-container\">\n",
              "      <div>\n",
              "<style scoped>\n",
              "    .dataframe tbody tr th:only-of-type {\n",
              "        vertical-align: middle;\n",
              "    }\n",
              "\n",
              "    .dataframe tbody tr th {\n",
              "        vertical-align: top;\n",
              "    }\n",
              "\n",
              "    .dataframe thead th {\n",
              "        text-align: right;\n",
              "    }\n",
              "</style>\n",
              "<table border=\"1\" class=\"dataframe\">\n",
              "  <thead>\n",
              "    <tr style=\"text-align: right;\">\n",
              "      <th></th>\n",
              "      <th>lat</th>\n",
              "      <th>lng</th>\n",
              "      <th>desc</th>\n",
              "      <th>zip</th>\n",
              "      <th>title</th>\n",
              "      <th>timeStamp</th>\n",
              "      <th>twp</th>\n",
              "      <th>addr</th>\n",
              "      <th>e</th>\n",
              "    </tr>\n",
              "  </thead>\n",
              "  <tbody>\n",
              "    <tr>\n",
              "      <th>0</th>\n",
              "      <td>40.297876</td>\n",
              "      <td>-75.581294</td>\n",
              "      <td>REINDEER CT &amp; DEAD END;  NEW HANOVER; Station ...</td>\n",
              "      <td>19525.0</td>\n",
              "      <td>EMS: BACK PAINS/INJURY</td>\n",
              "      <td>2015-12-10 17:40:00</td>\n",
              "      <td>NEW HANOVER</td>\n",
              "      <td>REINDEER CT &amp; DEAD END</td>\n",
              "      <td>1</td>\n",
              "    </tr>\n",
              "    <tr>\n",
              "      <th>1</th>\n",
              "      <td>40.258061</td>\n",
              "      <td>-75.264680</td>\n",
              "      <td>BRIAR PATH &amp; WHITEMARSH LN;  HATFIELD TOWNSHIP...</td>\n",
              "      <td>19446.0</td>\n",
              "      <td>EMS: DIABETIC EMERGENCY</td>\n",
              "      <td>2015-12-10 17:40:00</td>\n",
              "      <td>HATFIELD TOWNSHIP</td>\n",
              "      <td>BRIAR PATH &amp; WHITEMARSH LN</td>\n",
              "      <td>1</td>\n",
              "    </tr>\n",
              "    <tr>\n",
              "      <th>2</th>\n",
              "      <td>40.121182</td>\n",
              "      <td>-75.351975</td>\n",
              "      <td>HAWS AVE; NORRISTOWN; 2015-12-10 @ 14:39:21-St...</td>\n",
              "      <td>19401.0</td>\n",
              "      <td>Fire: GAS-ODOR/LEAK</td>\n",
              "      <td>2015-12-10 17:40:00</td>\n",
              "      <td>NORRISTOWN</td>\n",
              "      <td>HAWS AVE</td>\n",
              "      <td>1</td>\n",
              "    </tr>\n",
              "    <tr>\n",
              "      <th>3</th>\n",
              "      <td>40.116153</td>\n",
              "      <td>-75.343513</td>\n",
              "      <td>AIRY ST &amp; SWEDE ST;  NORRISTOWN; Station 308A;...</td>\n",
              "      <td>19401.0</td>\n",
              "      <td>EMS: CARDIAC EMERGENCY</td>\n",
              "      <td>2015-12-10 17:40:01</td>\n",
              "      <td>NORRISTOWN</td>\n",
              "      <td>AIRY ST &amp; SWEDE ST</td>\n",
              "      <td>1</td>\n",
              "    </tr>\n",
              "    <tr>\n",
              "      <th>4</th>\n",
              "      <td>40.251492</td>\n",
              "      <td>-75.603350</td>\n",
              "      <td>CHERRYWOOD CT &amp; DEAD END;  LOWER POTTSGROVE; S...</td>\n",
              "      <td>NaN</td>\n",
              "      <td>EMS: DIZZINESS</td>\n",
              "      <td>2015-12-10 17:40:01</td>\n",
              "      <td>LOWER POTTSGROVE</td>\n",
              "      <td>CHERRYWOOD CT &amp; DEAD END</td>\n",
              "      <td>1</td>\n",
              "    </tr>\n",
              "  </tbody>\n",
              "</table>\n",
              "</div>\n",
              "      <button class=\"colab-df-convert\" onclick=\"convertToInteractive('df-35eb5751-013c-4322-8719-66cb9e409b09')\"\n",
              "              title=\"Convert this dataframe to an interactive table.\"\n",
              "              style=\"display:none;\">\n",
              "\n",
              "  <svg xmlns=\"http://www.w3.org/2000/svg\" height=\"24px\"viewBox=\"0 0 24 24\"\n",
              "       width=\"24px\">\n",
              "    <path d=\"M0 0h24v24H0V0z\" fill=\"none\"/>\n",
              "    <path d=\"M18.56 5.44l.94 2.06.94-2.06 2.06-.94-2.06-.94-.94-2.06-.94 2.06-2.06.94zm-11 1L8.5 8.5l.94-2.06 2.06-.94-2.06-.94L8.5 2.5l-.94 2.06-2.06.94zm10 10l.94 2.06.94-2.06 2.06-.94-2.06-.94-.94-2.06-.94 2.06-2.06.94z\"/><path d=\"M17.41 7.96l-1.37-1.37c-.4-.4-.92-.59-1.43-.59-.52 0-1.04.2-1.43.59L10.3 9.45l-7.72 7.72c-.78.78-.78 2.05 0 2.83L4 21.41c.39.39.9.59 1.41.59.51 0 1.02-.2 1.41-.59l7.78-7.78 2.81-2.81c.8-.78.8-2.07 0-2.86zM5.41 20L4 18.59l7.72-7.72 1.47 1.35L5.41 20z\"/>\n",
              "  </svg>\n",
              "      </button>\n",
              "\n",
              "\n",
              "\n",
              "    <div id=\"df-410bc0e6-24ae-4b8a-a842-3a5d149ee77f\">\n",
              "      <button class=\"colab-df-quickchart\" onclick=\"quickchart('df-410bc0e6-24ae-4b8a-a842-3a5d149ee77f')\"\n",
              "              title=\"Suggest charts.\"\n",
              "              style=\"display:none;\">\n",
              "\n",
              "<svg xmlns=\"http://www.w3.org/2000/svg\" height=\"24px\"viewBox=\"0 0 24 24\"\n",
              "     width=\"24px\">\n",
              "    <g>\n",
              "        <path d=\"M19 3H5c-1.1 0-2 .9-2 2v14c0 1.1.9 2 2 2h14c1.1 0 2-.9 2-2V5c0-1.1-.9-2-2-2zM9 17H7v-7h2v7zm4 0h-2V7h2v10zm4 0h-2v-4h2v4z\"/>\n",
              "    </g>\n",
              "</svg>\n",
              "      </button>\n",
              "    </div>\n",
              "\n",
              "<style>\n",
              "  .colab-df-quickchart {\n",
              "    background-color: #E8F0FE;\n",
              "    border: none;\n",
              "    border-radius: 50%;\n",
              "    cursor: pointer;\n",
              "    display: none;\n",
              "    fill: #1967D2;\n",
              "    height: 32px;\n",
              "    padding: 0 0 0 0;\n",
              "    width: 32px;\n",
              "  }\n",
              "\n",
              "  .colab-df-quickchart:hover {\n",
              "    background-color: #E2EBFA;\n",
              "    box-shadow: 0px 1px 2px rgba(60, 64, 67, 0.3), 0px 1px 3px 1px rgba(60, 64, 67, 0.15);\n",
              "    fill: #174EA6;\n",
              "  }\n",
              "\n",
              "  [theme=dark] .colab-df-quickchart {\n",
              "    background-color: #3B4455;\n",
              "    fill: #D2E3FC;\n",
              "  }\n",
              "\n",
              "  [theme=dark] .colab-df-quickchart:hover {\n",
              "    background-color: #434B5C;\n",
              "    box-shadow: 0px 1px 3px 1px rgba(0, 0, 0, 0.15);\n",
              "    filter: drop-shadow(0px 1px 2px rgba(0, 0, 0, 0.3));\n",
              "    fill: #FFFFFF;\n",
              "  }\n",
              "</style>\n",
              "\n",
              "    <script>\n",
              "      async function quickchart(key) {\n",
              "        const containerElement = document.querySelector('#' + key);\n",
              "        const charts = await google.colab.kernel.invokeFunction(\n",
              "            'suggestCharts', [key], {});\n",
              "      }\n",
              "    </script>\n",
              "\n",
              "      <script>\n",
              "\n",
              "function displayQuickchartButton(domScope) {\n",
              "  let quickchartButtonEl =\n",
              "    domScope.querySelector('#df-410bc0e6-24ae-4b8a-a842-3a5d149ee77f button.colab-df-quickchart');\n",
              "  quickchartButtonEl.style.display =\n",
              "    google.colab.kernel.accessAllowed ? 'block' : 'none';\n",
              "}\n",
              "\n",
              "        displayQuickchartButton(document);\n",
              "      </script>\n",
              "      <style>\n",
              "    .colab-df-container {\n",
              "      display:flex;\n",
              "      flex-wrap:wrap;\n",
              "      gap: 12px;\n",
              "    }\n",
              "\n",
              "    .colab-df-convert {\n",
              "      background-color: #E8F0FE;\n",
              "      border: none;\n",
              "      border-radius: 50%;\n",
              "      cursor: pointer;\n",
              "      display: none;\n",
              "      fill: #1967D2;\n",
              "      height: 32px;\n",
              "      padding: 0 0 0 0;\n",
              "      width: 32px;\n",
              "    }\n",
              "\n",
              "    .colab-df-convert:hover {\n",
              "      background-color: #E2EBFA;\n",
              "      box-shadow: 0px 1px 2px rgba(60, 64, 67, 0.3), 0px 1px 3px 1px rgba(60, 64, 67, 0.15);\n",
              "      fill: #174EA6;\n",
              "    }\n",
              "\n",
              "    [theme=dark] .colab-df-convert {\n",
              "      background-color: #3B4455;\n",
              "      fill: #D2E3FC;\n",
              "    }\n",
              "\n",
              "    [theme=dark] .colab-df-convert:hover {\n",
              "      background-color: #434B5C;\n",
              "      box-shadow: 0px 1px 3px 1px rgba(0, 0, 0, 0.15);\n",
              "      filter: drop-shadow(0px 1px 2px rgba(0, 0, 0, 0.3));\n",
              "      fill: #FFFFFF;\n",
              "    }\n",
              "  </style>\n",
              "\n",
              "      <script>\n",
              "        const buttonEl =\n",
              "          document.querySelector('#df-35eb5751-013c-4322-8719-66cb9e409b09 button.colab-df-convert');\n",
              "        buttonEl.style.display =\n",
              "          google.colab.kernel.accessAllowed ? 'block' : 'none';\n",
              "\n",
              "        async function convertToInteractive(key) {\n",
              "          const element = document.querySelector('#df-35eb5751-013c-4322-8719-66cb9e409b09');\n",
              "          const dataTable =\n",
              "            await google.colab.kernel.invokeFunction('convertToInteractive',\n",
              "                                                     [key], {});\n",
              "          if (!dataTable) return;\n",
              "\n",
              "          const docLinkHtml = 'Like what you see? Visit the ' +\n",
              "            '<a target=\"_blank\" href=https://colab.research.google.com/notebooks/data_table.ipynb>data table notebook</a>'\n",
              "            + ' to learn more about interactive tables.';\n",
              "          element.innerHTML = '';\n",
              "          dataTable['output_type'] = 'display_data';\n",
              "          await google.colab.output.renderOutput(dataTable, element);\n",
              "          const docLink = document.createElement('div');\n",
              "          docLink.innerHTML = docLinkHtml;\n",
              "          element.appendChild(docLink);\n",
              "        }\n",
              "      </script>\n",
              "    </div>\n",
              "  </div>\n"
            ]
          },
          "metadata": {},
          "execution_count": 11
        }
      ],
      "source": [
        "df.head()"
      ]
    },
    {
      "cell_type": "markdown",
      "metadata": {
        "id": "pJEeRuLofkbb"
      },
      "source": [
        "## Basic Questions"
      ]
    },
    {
      "cell_type": "markdown",
      "metadata": {
        "id": "yuVeZHzHfkbc"
      },
      "source": [
        "** What are the top 5 zipcodes for 911 calls? **"
      ]
    },
    {
      "cell_type": "code",
      "source": [
        "a=df['zip'].value_counts(sort=True)\n",
        "a.head()"
      ],
      "metadata": {
        "colab": {
          "base_uri": "https://localhost:8080/"
        },
        "id": "TuuwJdl-lzww",
        "outputId": "ee2117b4-cad4-4bd0-fdd2-81d22c00b293"
      },
      "execution_count": null,
      "outputs": [
        {
          "output_type": "execute_result",
          "data": {
            "text/plain": [
              "19401.0    6979\n",
              "19464.0    6643\n",
              "19403.0    4854\n",
              "19446.0    4748\n",
              "19406.0    3174\n",
              "Name: zip, dtype: int64"
            ]
          },
          "metadata": {},
          "execution_count": 12
        }
      ]
    },
    {
      "cell_type": "markdown",
      "metadata": {
        "id": "Ryeq2dCufkbc"
      },
      "source": [
        "** What are the top 5 townships (twp) for 911 calls? **"
      ]
    },
    {
      "cell_type": "code",
      "source": [
        "b=df['twp'].value_counts(sort=True)\n",
        "b.head()"
      ],
      "metadata": {
        "colab": {
          "base_uri": "https://localhost:8080/"
        },
        "id": "2R1stc34yU4H",
        "outputId": "d691ebd7-bf3a-4525-ee51-fb81e785a3fe"
      },
      "execution_count": null,
      "outputs": [
        {
          "output_type": "execute_result",
          "data": {
            "text/plain": [
              "LOWER MERION    8443\n",
              "ABINGTON        5977\n",
              "NORRISTOWN      5890\n",
              "UPPER MERION    5227\n",
              "CHELTENHAM      4575\n",
              "Name: twp, dtype: int64"
            ]
          },
          "metadata": {},
          "execution_count": 13
        }
      ]
    },
    {
      "cell_type": "markdown",
      "metadata": {
        "id": "rvYA8PqRfkbc"
      },
      "source": [
        "** Take a look at the 'title' column, how many unique title codes are there? **"
      ]
    },
    {
      "cell_type": "code",
      "source": [
        "df['title'].nunique()"
      ],
      "metadata": {
        "colab": {
          "base_uri": "https://localhost:8080/"
        },
        "id": "x0aHAyxFyfbg",
        "outputId": "3913f49e-a3ad-4589-9129-d27518a607ce"
      },
      "execution_count": null,
      "outputs": [
        {
          "output_type": "execute_result",
          "data": {
            "text/plain": [
              "110"
            ]
          },
          "metadata": {},
          "execution_count": 14
        }
      ]
    },
    {
      "cell_type": "markdown",
      "metadata": {
        "id": "MAGGUUJPfkbc"
      },
      "source": [
        "## Creating new features"
      ]
    },
    {
      "cell_type": "markdown",
      "metadata": {
        "id": "PTasi27ifkbc"
      },
      "source": [
        "** In the titles column there are \"Reasons/Departments\" specified before the title code. These are EMS, Fire, and Traffic. Use .apply() with a custom lambda expression to create a new column called \"Reason\" that contains this string value.**\n",
        "\n",
        "**For example, if the title column value is EMS: BACK PAINS/INJURY , the Reason column value would be EMS. **"
      ]
    },
    {
      "cell_type": "code",
      "execution_count": null,
      "metadata": {
        "collapsed": true,
        "id": "6mzebAHDfkbd"
      },
      "outputs": [],
      "source": [
        "Reason=list(map(lambda a: a.split(':')[0],df['title']))\n",
        "df['Reason']=Reason"
      ]
    },
    {
      "cell_type": "code",
      "source": [
        "df.head()"
      ],
      "metadata": {
        "colab": {
          "base_uri": "https://localhost:8080/",
          "height": 565
        },
        "id": "ISRFITTlO7Go",
        "outputId": "1ddf1776-db2c-4fef-a92f-a36310395d58"
      },
      "execution_count": null,
      "outputs": [
        {
          "output_type": "execute_result",
          "data": {
            "text/plain": [
              "         lat        lng                                               desc  \\\n",
              "0  40.297876 -75.581294  REINDEER CT & DEAD END;  NEW HANOVER; Station ...   \n",
              "1  40.258061 -75.264680  BRIAR PATH & WHITEMARSH LN;  HATFIELD TOWNSHIP...   \n",
              "2  40.121182 -75.351975  HAWS AVE; NORRISTOWN; 2015-12-10 @ 14:39:21-St...   \n",
              "3  40.116153 -75.343513  AIRY ST & SWEDE ST;  NORRISTOWN; Station 308A;...   \n",
              "4  40.251492 -75.603350  CHERRYWOOD CT & DEAD END;  LOWER POTTSGROVE; S...   \n",
              "\n",
              "       zip                    title            timeStamp                twp  \\\n",
              "0  19525.0   EMS: BACK PAINS/INJURY  2015-12-10 17:40:00        NEW HANOVER   \n",
              "1  19446.0  EMS: DIABETIC EMERGENCY  2015-12-10 17:40:00  HATFIELD TOWNSHIP   \n",
              "2  19401.0      Fire: GAS-ODOR/LEAK  2015-12-10 17:40:00         NORRISTOWN   \n",
              "3  19401.0   EMS: CARDIAC EMERGENCY  2015-12-10 17:40:01         NORRISTOWN   \n",
              "4      NaN           EMS: DIZZINESS  2015-12-10 17:40:01   LOWER POTTSGROVE   \n",
              "\n",
              "                         addr  e Reason  \n",
              "0      REINDEER CT & DEAD END  1    EMS  \n",
              "1  BRIAR PATH & WHITEMARSH LN  1    EMS  \n",
              "2                    HAWS AVE  1   Fire  \n",
              "3          AIRY ST & SWEDE ST  1    EMS  \n",
              "4    CHERRYWOOD CT & DEAD END  1    EMS  "
            ],
            "text/html": [
              "\n",
              "\n",
              "  <div id=\"df-1d1a8cf9-ae17-4bd0-ab2f-003d8f171f6a\">\n",
              "    <div class=\"colab-df-container\">\n",
              "      <div>\n",
              "<style scoped>\n",
              "    .dataframe tbody tr th:only-of-type {\n",
              "        vertical-align: middle;\n",
              "    }\n",
              "\n",
              "    .dataframe tbody tr th {\n",
              "        vertical-align: top;\n",
              "    }\n",
              "\n",
              "    .dataframe thead th {\n",
              "        text-align: right;\n",
              "    }\n",
              "</style>\n",
              "<table border=\"1\" class=\"dataframe\">\n",
              "  <thead>\n",
              "    <tr style=\"text-align: right;\">\n",
              "      <th></th>\n",
              "      <th>lat</th>\n",
              "      <th>lng</th>\n",
              "      <th>desc</th>\n",
              "      <th>zip</th>\n",
              "      <th>title</th>\n",
              "      <th>timeStamp</th>\n",
              "      <th>twp</th>\n",
              "      <th>addr</th>\n",
              "      <th>e</th>\n",
              "      <th>Reason</th>\n",
              "    </tr>\n",
              "  </thead>\n",
              "  <tbody>\n",
              "    <tr>\n",
              "      <th>0</th>\n",
              "      <td>40.297876</td>\n",
              "      <td>-75.581294</td>\n",
              "      <td>REINDEER CT &amp; DEAD END;  NEW HANOVER; Station ...</td>\n",
              "      <td>19525.0</td>\n",
              "      <td>EMS: BACK PAINS/INJURY</td>\n",
              "      <td>2015-12-10 17:40:00</td>\n",
              "      <td>NEW HANOVER</td>\n",
              "      <td>REINDEER CT &amp; DEAD END</td>\n",
              "      <td>1</td>\n",
              "      <td>EMS</td>\n",
              "    </tr>\n",
              "    <tr>\n",
              "      <th>1</th>\n",
              "      <td>40.258061</td>\n",
              "      <td>-75.264680</td>\n",
              "      <td>BRIAR PATH &amp; WHITEMARSH LN;  HATFIELD TOWNSHIP...</td>\n",
              "      <td>19446.0</td>\n",
              "      <td>EMS: DIABETIC EMERGENCY</td>\n",
              "      <td>2015-12-10 17:40:00</td>\n",
              "      <td>HATFIELD TOWNSHIP</td>\n",
              "      <td>BRIAR PATH &amp; WHITEMARSH LN</td>\n",
              "      <td>1</td>\n",
              "      <td>EMS</td>\n",
              "    </tr>\n",
              "    <tr>\n",
              "      <th>2</th>\n",
              "      <td>40.121182</td>\n",
              "      <td>-75.351975</td>\n",
              "      <td>HAWS AVE; NORRISTOWN; 2015-12-10 @ 14:39:21-St...</td>\n",
              "      <td>19401.0</td>\n",
              "      <td>Fire: GAS-ODOR/LEAK</td>\n",
              "      <td>2015-12-10 17:40:00</td>\n",
              "      <td>NORRISTOWN</td>\n",
              "      <td>HAWS AVE</td>\n",
              "      <td>1</td>\n",
              "      <td>Fire</td>\n",
              "    </tr>\n",
              "    <tr>\n",
              "      <th>3</th>\n",
              "      <td>40.116153</td>\n",
              "      <td>-75.343513</td>\n",
              "      <td>AIRY ST &amp; SWEDE ST;  NORRISTOWN; Station 308A;...</td>\n",
              "      <td>19401.0</td>\n",
              "      <td>EMS: CARDIAC EMERGENCY</td>\n",
              "      <td>2015-12-10 17:40:01</td>\n",
              "      <td>NORRISTOWN</td>\n",
              "      <td>AIRY ST &amp; SWEDE ST</td>\n",
              "      <td>1</td>\n",
              "      <td>EMS</td>\n",
              "    </tr>\n",
              "    <tr>\n",
              "      <th>4</th>\n",
              "      <td>40.251492</td>\n",
              "      <td>-75.603350</td>\n",
              "      <td>CHERRYWOOD CT &amp; DEAD END;  LOWER POTTSGROVE; S...</td>\n",
              "      <td>NaN</td>\n",
              "      <td>EMS: DIZZINESS</td>\n",
              "      <td>2015-12-10 17:40:01</td>\n",
              "      <td>LOWER POTTSGROVE</td>\n",
              "      <td>CHERRYWOOD CT &amp; DEAD END</td>\n",
              "      <td>1</td>\n",
              "      <td>EMS</td>\n",
              "    </tr>\n",
              "  </tbody>\n",
              "</table>\n",
              "</div>\n",
              "      <button class=\"colab-df-convert\" onclick=\"convertToInteractive('df-1d1a8cf9-ae17-4bd0-ab2f-003d8f171f6a')\"\n",
              "              title=\"Convert this dataframe to an interactive table.\"\n",
              "              style=\"display:none;\">\n",
              "\n",
              "  <svg xmlns=\"http://www.w3.org/2000/svg\" height=\"24px\"viewBox=\"0 0 24 24\"\n",
              "       width=\"24px\">\n",
              "    <path d=\"M0 0h24v24H0V0z\" fill=\"none\"/>\n",
              "    <path d=\"M18.56 5.44l.94 2.06.94-2.06 2.06-.94-2.06-.94-.94-2.06-.94 2.06-2.06.94zm-11 1L8.5 8.5l.94-2.06 2.06-.94-2.06-.94L8.5 2.5l-.94 2.06-2.06.94zm10 10l.94 2.06.94-2.06 2.06-.94-2.06-.94-.94-2.06-.94 2.06-2.06.94z\"/><path d=\"M17.41 7.96l-1.37-1.37c-.4-.4-.92-.59-1.43-.59-.52 0-1.04.2-1.43.59L10.3 9.45l-7.72 7.72c-.78.78-.78 2.05 0 2.83L4 21.41c.39.39.9.59 1.41.59.51 0 1.02-.2 1.41-.59l7.78-7.78 2.81-2.81c.8-.78.8-2.07 0-2.86zM5.41 20L4 18.59l7.72-7.72 1.47 1.35L5.41 20z\"/>\n",
              "  </svg>\n",
              "      </button>\n",
              "\n",
              "\n",
              "\n",
              "    <div id=\"df-2e20d0d9-52b5-4fd1-8565-0aa911fb2ba1\">\n",
              "      <button class=\"colab-df-quickchart\" onclick=\"quickchart('df-2e20d0d9-52b5-4fd1-8565-0aa911fb2ba1')\"\n",
              "              title=\"Suggest charts.\"\n",
              "              style=\"display:none;\">\n",
              "\n",
              "<svg xmlns=\"http://www.w3.org/2000/svg\" height=\"24px\"viewBox=\"0 0 24 24\"\n",
              "     width=\"24px\">\n",
              "    <g>\n",
              "        <path d=\"M19 3H5c-1.1 0-2 .9-2 2v14c0 1.1.9 2 2 2h14c1.1 0 2-.9 2-2V5c0-1.1-.9-2-2-2zM9 17H7v-7h2v7zm4 0h-2V7h2v10zm4 0h-2v-4h2v4z\"/>\n",
              "    </g>\n",
              "</svg>\n",
              "      </button>\n",
              "    </div>\n",
              "\n",
              "<style>\n",
              "  .colab-df-quickchart {\n",
              "    background-color: #E8F0FE;\n",
              "    border: none;\n",
              "    border-radius: 50%;\n",
              "    cursor: pointer;\n",
              "    display: none;\n",
              "    fill: #1967D2;\n",
              "    height: 32px;\n",
              "    padding: 0 0 0 0;\n",
              "    width: 32px;\n",
              "  }\n",
              "\n",
              "  .colab-df-quickchart:hover {\n",
              "    background-color: #E2EBFA;\n",
              "    box-shadow: 0px 1px 2px rgba(60, 64, 67, 0.3), 0px 1px 3px 1px rgba(60, 64, 67, 0.15);\n",
              "    fill: #174EA6;\n",
              "  }\n",
              "\n",
              "  [theme=dark] .colab-df-quickchart {\n",
              "    background-color: #3B4455;\n",
              "    fill: #D2E3FC;\n",
              "  }\n",
              "\n",
              "  [theme=dark] .colab-df-quickchart:hover {\n",
              "    background-color: #434B5C;\n",
              "    box-shadow: 0px 1px 3px 1px rgba(0, 0, 0, 0.15);\n",
              "    filter: drop-shadow(0px 1px 2px rgba(0, 0, 0, 0.3));\n",
              "    fill: #FFFFFF;\n",
              "  }\n",
              "</style>\n",
              "\n",
              "    <script>\n",
              "      async function quickchart(key) {\n",
              "        const containerElement = document.querySelector('#' + key);\n",
              "        const charts = await google.colab.kernel.invokeFunction(\n",
              "            'suggestCharts', [key], {});\n",
              "      }\n",
              "    </script>\n",
              "\n",
              "      <script>\n",
              "\n",
              "function displayQuickchartButton(domScope) {\n",
              "  let quickchartButtonEl =\n",
              "    domScope.querySelector('#df-2e20d0d9-52b5-4fd1-8565-0aa911fb2ba1 button.colab-df-quickchart');\n",
              "  quickchartButtonEl.style.display =\n",
              "    google.colab.kernel.accessAllowed ? 'block' : 'none';\n",
              "}\n",
              "\n",
              "        displayQuickchartButton(document);\n",
              "      </script>\n",
              "      <style>\n",
              "    .colab-df-container {\n",
              "      display:flex;\n",
              "      flex-wrap:wrap;\n",
              "      gap: 12px;\n",
              "    }\n",
              "\n",
              "    .colab-df-convert {\n",
              "      background-color: #E8F0FE;\n",
              "      border: none;\n",
              "      border-radius: 50%;\n",
              "      cursor: pointer;\n",
              "      display: none;\n",
              "      fill: #1967D2;\n",
              "      height: 32px;\n",
              "      padding: 0 0 0 0;\n",
              "      width: 32px;\n",
              "    }\n",
              "\n",
              "    .colab-df-convert:hover {\n",
              "      background-color: #E2EBFA;\n",
              "      box-shadow: 0px 1px 2px rgba(60, 64, 67, 0.3), 0px 1px 3px 1px rgba(60, 64, 67, 0.15);\n",
              "      fill: #174EA6;\n",
              "    }\n",
              "\n",
              "    [theme=dark] .colab-df-convert {\n",
              "      background-color: #3B4455;\n",
              "      fill: #D2E3FC;\n",
              "    }\n",
              "\n",
              "    [theme=dark] .colab-df-convert:hover {\n",
              "      background-color: #434B5C;\n",
              "      box-shadow: 0px 1px 3px 1px rgba(0, 0, 0, 0.15);\n",
              "      filter: drop-shadow(0px 1px 2px rgba(0, 0, 0, 0.3));\n",
              "      fill: #FFFFFF;\n",
              "    }\n",
              "  </style>\n",
              "\n",
              "      <script>\n",
              "        const buttonEl =\n",
              "          document.querySelector('#df-1d1a8cf9-ae17-4bd0-ab2f-003d8f171f6a button.colab-df-convert');\n",
              "        buttonEl.style.display =\n",
              "          google.colab.kernel.accessAllowed ? 'block' : 'none';\n",
              "\n",
              "        async function convertToInteractive(key) {\n",
              "          const element = document.querySelector('#df-1d1a8cf9-ae17-4bd0-ab2f-003d8f171f6a');\n",
              "          const dataTable =\n",
              "            await google.colab.kernel.invokeFunction('convertToInteractive',\n",
              "                                                     [key], {});\n",
              "          if (!dataTable) return;\n",
              "\n",
              "          const docLinkHtml = 'Like what you see? Visit the ' +\n",
              "            '<a target=\"_blank\" href=https://colab.research.google.com/notebooks/data_table.ipynb>data table notebook</a>'\n",
              "            + ' to learn more about interactive tables.';\n",
              "          element.innerHTML = '';\n",
              "          dataTable['output_type'] = 'display_data';\n",
              "          await google.colab.output.renderOutput(dataTable, element);\n",
              "          const docLink = document.createElement('div');\n",
              "          docLink.innerHTML = docLinkHtml;\n",
              "          element.appendChild(docLink);\n",
              "        }\n",
              "      </script>\n",
              "    </div>\n",
              "  </div>\n"
            ]
          },
          "metadata": {},
          "execution_count": 16
        }
      ]
    },
    {
      "cell_type": "markdown",
      "metadata": {
        "id": "BGqMWrlmfkbd"
      },
      "source": [
        "** What is the most common Reason for a 911 call based off of this new column? **"
      ]
    },
    {
      "cell_type": "code",
      "source": [
        "c=df.value_counts(df['Reason'])\n",
        "c.head(3)"
      ],
      "metadata": {
        "colab": {
          "base_uri": "https://localhost:8080/"
        },
        "id": "09hxZtLVPZsb",
        "outputId": "a4be34e4-a0d7-4293-9dcf-f39487b30fac"
      },
      "execution_count": null,
      "outputs": [
        {
          "output_type": "execute_result",
          "data": {
            "text/plain": [
              "Reason\n",
              "EMS        48877\n",
              "Traffic    35695\n",
              "Fire       14920\n",
              "dtype: int64"
            ]
          },
          "metadata": {},
          "execution_count": 17
        }
      ]
    },
    {
      "cell_type": "markdown",
      "metadata": {
        "id": "aPinPOWbfkbd"
      },
      "source": [
        "** Now use seaborn to create a countplot of 911 calls by Reason. **"
      ]
    },
    {
      "cell_type": "code",
      "source": [
        "sns.countplot(data=df['Reason'],x=df['Reason'], palette='viridis')"
      ],
      "metadata": {
        "colab": {
          "base_uri": "https://localhost:8080/",
          "height": 466
        },
        "id": "JSLn0RtXPjVm",
        "outputId": "56f69139-aac6-461f-f2a7-e16d7fcc1089"
      },
      "execution_count": null,
      "outputs": [
        {
          "output_type": "execute_result",
          "data": {
            "text/plain": [
              "<Axes: xlabel='Reason', ylabel='count'>"
            ]
          },
          "metadata": {},
          "execution_count": 21
        },
        {
          "output_type": "display_data",
          "data": {
            "text/plain": [
              "<Figure size 640x480 with 1 Axes>"
            ],
            "image/png": "[encoded data removed]"
          },
          "metadata": {}
        }
      ]
    },
    {
      "cell_type": "markdown",
      "metadata": {
        "id": "kI5wTwPRfkbd"
      },
      "source": [
        "___\n",
        "** Now let us begin to focus on time information. What is the data type of the objects in the timeStamp column? **"
      ]
    },
    {
      "cell_type": "code",
      "source": [
        "type(df['timeStamp'][0])"
      ],
      "metadata": {
        "colab": {
          "base_uri": "https://localhost:8080/"
        },
        "id": "BEtr8C1ZQCmi",
        "outputId": "1120c67d-7568-4c9d-bff3-c7c4e8409de6"
      },
      "execution_count": null,
      "outputs": [
        {
          "output_type": "execute_result",
          "data": {
            "text/plain": [
              "str"
            ]
          },
          "metadata": {},
          "execution_count": 22
        }
      ]
    },
    {
      "cell_type": "markdown",
      "metadata": {
        "id": "lfb_ROHkfkbe"
      },
      "source": [
        "** You should have seen that these timestamps are still strings. Use [pd.to_datetime](http://pandas.pydata.org/pandas-docs/stable/generated/pandas.to_datetime.html) to convert the column from strings to DateTime objects. **"
      ]
    },
    {
      "cell_type": "code",
      "execution_count": null,
      "metadata": {
        "collapsed": true,
        "id": "W3J98n9ofkbe"
      },
      "outputs": [],
      "source": [
        "time=list(map(lambda a: pd.to_datetime(a,format='%Y-%m-%d %H:%M:%S'),df['timeStamp']))\n",
        "\n"
      ]
    },
    {
      "cell_type": "code",
      "source": [
        "df['timeStamp']=time\n",
        "type(df['timeStamp'][0])"
      ],
      "metadata": {
        "colab": {
          "base_uri": "https://localhost:8080/"
        },
        "id": "GaQOB4YCWFK8",
        "outputId": "1f0071ef-e458-454a-be1b-32a1c627632d"
      },
      "execution_count": null,
      "outputs": [
        {
          "output_type": "execute_result",
          "data": {
            "text/plain": [
              "pandas._libs.tslibs.timestamps.Timestamp"
            ]
          },
          "metadata": {},
          "execution_count": 24
        }
      ]
    },
    {
      "cell_type": "markdown",
      "metadata": {
        "id": "1yRh-ViYfkbe"
      },
      "source": [
        "** You can now grab specific attributes from a Datetime object by calling them. For example:**\n",
        "\n",
        "    time = df['timeStamp'].iloc[0]\n",
        "    time.hour\n",
        "\n",
        "**You can use Jupyter's tab method to explore the various attributes you can call. Now that the timestamp column are actually DateTime objects, use .apply() to create 3 new columns called Hour, Month, and Day of Week. You will create these columns based off of the timeStamp column, reference the solutions if you get stuck on this step.**"
      ]
    },
    {
      "cell_type": "code",
      "execution_count": null,
      "metadata": {
        "id": "bhlEw5o1fkbe",
        "colab": {
          "base_uri": "https://localhost:8080/"
        },
        "outputId": "6bc4557f-0700-4f18-c349-a81da313528e"
      },
      "outputs": [
        {
          "output_type": "execute_result",
          "data": {
            "text/plain": [
              "3"
            ]
          },
          "metadata": {},
          "execution_count": 25
        }
      ],
      "source": [
        "df['Hour'] = df['timeStamp'].apply(lambda time: time.hour)\n",
        "df['Month'] = df['timeStamp'].apply(lambda time: time.month)\n",
        "df['Day of Week'] = df['timeStamp'].apply(lambda time: time.dayofweek)\n",
        "df['Day of Week'][0]"
      ]
    },
    {
      "cell_type": "markdown",
      "metadata": {
        "collapsed": false,
        "id": "mtngRmA3fkbe"
      },
      "source": [
        "** Notice how the Day of Week is an integer 0-6. Use the .map() with this dictionary to map the actual string names to the day of the week: **\n",
        "\n",
        "    dmap = {0:'Mon',1:'Tue',2:'Wed',3:'Thu',4:'Fri',5:'Sat',6:'Sun'}"
      ]
    },
    {
      "cell_type": "code",
      "execution_count": null,
      "metadata": {
        "id": "stb6xlntfkbe"
      },
      "outputs": [],
      "source": [
        "\n",
        "\n",
        "dmap = {0:'Mon',1:'Tue',2:'Wed',3:'Thu',4:'Fri',5:'Sat',6:'Sun'}\n"
      ]
    },
    {
      "cell_type": "code",
      "execution_count": 71,
      "metadata": {
        "id": "oso67sN6fkbe"
      },
      "outputs": [],
      "source": [
        "df['Day of Week']=df['Day of Week'].map(dmap)"
      ]
    },
    {
      "cell_type": "markdown",
      "metadata": {
        "collapsed": false,
        "id": "8maNDOxVfkbe"
      },
      "source": [
        "** Now use seaborn to create a countplot of the Day of Week column with the hue based off of the Reason column. **"
      ]
    },
    {
      "cell_type": "code",
      "source": [
        "sns.countplot(data=df,x='Day of Week',hue='Reason',palette='viridis')"
      ],
      "metadata": {
        "colab": {
          "base_uri": "https://localhost:8080/",
          "height": 466
        },
        "id": "12hLS8iwct5Y",
        "outputId": "789126b7-8ed9-421f-cc4b-de5ba8daa75e"
      },
      "execution_count": 72,
      "outputs": [
        {
          "output_type": "execute_result",
          "data": {
            "text/plain": [
              "<Axes: xlabel='Day of Week', ylabel='count'>"
            ]
          },
          "metadata": {},
          "execution_count": 72
        },
        {
          "output_type": "display_data",
          "data": {
            "text/plain": [
              "<Figure size 640x480 with 1 Axes>"
            ],
            "image/png": "[encoded data removed]"
          },
          "metadata": {}
        }
      ]
    },
    {
      "cell_type": "markdown",
      "metadata": {
        "id": "HCLvjCASfkbf"
      },
      "source": [
        "**Now do the same for Month:**"
      ]
    },
    {
      "cell_type": "code",
      "execution_count": 73,
      "metadata": {
        "id": "Z9NrHyxefkbo",
        "outputId": "30d6349b-237a-4b6a-f9d1-a577045e5ddd",
        "colab": {
          "base_uri": "https://localhost:8080/",
          "height": 466
        }
      },
      "outputs": [
        {
          "output_type": "execute_result",
          "data": {
            "text/plain": [
              "<Axes: xlabel='Month', ylabel='count'>"
            ]
          },
          "metadata": {},
          "execution_count": 73
        },
        {
          "output_type": "display_data",
          "data": {
            "text/plain": [
              "<Figure size 640x480 with 1 Axes>"
            ],
            "image/png": "[encoded data removed]"
          },
          "metadata": {}
        }
      ],
      "source": [
        "sns.countplot(data=df,x='Month',hue='Reason',palette='viridis')"
      ]
    },
    {
      "cell_type": "markdown",
      "metadata": {
        "id": "RqQCEksZfkbo"
      },
      "source": [
        "**Did you notice something strange about the Plot?**\n",
        "\n",
        "_____\n",
        "\n",
        "** You should have noticed it was missing some Months, let's see if we can maybe fill in this information by plotting the information in another way, possibly a simple line plot that fills in the missing months, in order to do this, we'll need to do some work with pandas... **"
      ]
    },
    {
      "cell_type": "markdown",
      "metadata": {
        "id": "B5d5CR-Afkbo"
      },
      "source": [
        "** Now create a gropuby object called byMonth, where you group the DataFrame by the month column and use the count() method for aggregation. Use the head() method on this returned DataFrame. **"
      ]
    },
    {
      "cell_type": "code",
      "source": [
        "byMonth=df.groupby(by='Month').count()\n",
        "byMonth.head()"
      ],
      "metadata": {
        "colab": {
          "base_uri": "https://localhost:8080/",
          "height": 237
        },
        "id": "EX-2YEXCeE0S",
        "outputId": "9a082cee-7dbe-424d-c8a9-7ae46e7c9cfa"
      },
      "execution_count": null,
      "outputs": [
        {
          "output_type": "execute_result",
          "data": {
            "text/plain": [
              "         lat    lng   desc    zip  title  timeStamp    twp   addr      e  \\\n",
              "Month                                                                      \n",
              "1      13205  13205  13205  11527  13205      13205  13203  13096  13205   \n",
              "2      11467  11467  11467   9930  11467      11467  11465  11396  11467   \n",
              "3      11101  11101  11101   9755  11101      11101  11092  11059  11101   \n",
              "4      11326  11326  11326   9895  11326      11326  11323  11283  11326   \n",
              "5      11423  11423  11423   9946  11423      11423  11420  11378  11423   \n",
              "\n",
              "       Reason   Hour  Day of Week  \n",
              "Month                              \n",
              "1       13205  13205        13205  \n",
              "2       11467  11467        11467  \n",
              "3       11101  11101        11101  \n",
              "4       11326  11326        11326  \n",
              "5       11423  11423        11423  "
            ],
            "text/html": [
              "\n",
              "\n",
              "  <div id=\"df-0f2eac92-2cf0-4edc-941f-65d67e88b196\">\n",
              "    <div class=\"colab-df-container\">\n",
              "      <div>\n",
              "<style scoped>\n",
              "    .dataframe tbody tr th:only-of-type {\n",
              "        vertical-align: middle;\n",
              "    }\n",
              "\n",
              "    .dataframe tbody tr th {\n",
              "        vertical-align: top;\n",
              "    }\n",
              "\n",
              "    .dataframe thead th {\n",
              "        text-align: right;\n",
              "    }\n",
              "</style>\n",
              "<table border=\"1\" class=\"dataframe\">\n",
              "  <thead>\n",
              "    <tr style=\"text-align: right;\">\n",
              "      <th></th>\n",
              "      <th>lat</th>\n",
              "      <th>lng</th>\n",
              "      <th>desc</th>\n",
              "      <th>zip</th>\n",
              "      <th>title</th>\n",
              "      <th>timeStamp</th>\n",
              "      <th>twp</th>\n",
              "      <th>addr</th>\n",
              "      <th>e</th>\n",
              "      <th>Reason</th>\n",
              "      <th>Hour</th>\n",
              "      <th>Day of Week</th>\n",
              "    </tr>\n",
              "    <tr>\n",
              "      <th>Month</th>\n",
              "      <th></th>\n",
              "      <th></th>\n",
              "      <th></th>\n",
              "      <th></th>\n",
              "      <th></th>\n",
              "      <th></th>\n",
              "      <th></th>\n",
              "      <th></th>\n",
              "      <th></th>\n",
              "      <th></th>\n",
              "      <th></th>\n",
              "      <th></th>\n",
              "    </tr>\n",
              "  </thead>\n",
              "  <tbody>\n",
              "    <tr>\n",
              "      <th>1</th>\n",
              "      <td>13205</td>\n",
              "      <td>13205</td>\n",
              "      <td>13205</td>\n",
              "      <td>11527</td>\n",
              "      <td>13205</td>\n",
              "      <td>13205</td>\n",
              "      <td>13203</td>\n",
              "      <td>13096</td>\n",
              "      <td>13205</td>\n",
              "      <td>13205</td>\n",
              "      <td>13205</td>\n",
              "      <td>13205</td>\n",
              "    </tr>\n",
              "    <tr>\n",
              "      <th>2</th>\n",
              "      <td>11467</td>\n",
              "      <td>11467</td>\n",
              "      <td>11467</td>\n",
              "      <td>9930</td>\n",
              "      <td>11467</td>\n",
              "      <td>11467</td>\n",
              "      <td>11465</td>\n",
              "      <td>11396</td>\n",
              "      <td>11467</td>\n",
              "      <td>11467</td>\n",
              "      <td>11467</td>\n",
              "      <td>11467</td>\n",
              "    </tr>\n",
              "    <tr>\n",
              "      <th>3</th>\n",
              "      <td>11101</td>\n",
              "      <td>11101</td>\n",
              "      <td>11101</td>\n",
              "      <td>9755</td>\n",
              "      <td>11101</td>\n",
              "      <td>11101</td>\n",
              "      <td>11092</td>\n",
              "      <td>11059</td>\n",
              "      <td>11101</td>\n",
              "      <td>11101</td>\n",
              "      <td>11101</td>\n",
              "      <td>11101</td>\n",
              "    </tr>\n",
              "    <tr>\n",
              "      <th>4</th>\n",
              "      <td>11326</td>\n",
              "      <td>11326</td>\n",
              "      <td>11326</td>\n",
              "      <td>9895</td>\n",
              "      <td>11326</td>\n",
              "      <td>11326</td>\n",
              "      <td>11323</td>\n",
              "      <td>11283</td>\n",
              "      <td>11326</td>\n",
              "      <td>11326</td>\n",
              "      <td>11326</td>\n",
              "      <td>11326</td>\n",
              "    </tr>\n",
              "    <tr>\n",
              "      <th>5</th>\n",
              "      <td>11423</td>\n",
              "      <td>11423</td>\n",
              "      <td>11423</td>\n",
              "      <td>9946</td>\n",
              "      <td>11423</td>\n",
              "      <td>11423</td>\n",
              "      <td>11420</td>\n",
              "      <td>11378</td>\n",
              "      <td>11423</td>\n",
              "      <td>11423</td>\n",
              "      <td>11423</td>\n",
              "      <td>11423</td>\n",
              "    </tr>\n",
              "  </tbody>\n",
              "</table>\n",
              "</div>\n",
              "      <button class=\"colab-df-convert\" onclick=\"convertToInteractive('df-0f2eac92-2cf0-4edc-941f-65d67e88b196')\"\n",
              "              title=\"Convert this dataframe to an interactive table.\"\n",
              "              style=\"display:none;\">\n",
              "\n",
              "  <svg xmlns=\"http://www.w3.org/2000/svg\" height=\"24px\"viewBox=\"0 0 24 24\"\n",
              "       width=\"24px\">\n",
              "    <path d=\"M0 0h24v24H0V0z\" fill=\"none\"/>\n",
              "    <path d=\"M18.56 5.44l.94 2.06.94-2.06 2.06-.94-2.06-.94-.94-2.06-.94 2.06-2.06.94zm-11 1L8.5 8.5l.94-2.06 2.06-.94-2.06-.94L8.5 2.5l-.94 2.06-2.06.94zm10 10l.94 2.06.94-2.06 2.06-.94-2.06-.94-.94-2.06-.94 2.06-2.06.94z\"/><path d=\"M17.41 7.96l-1.37-1.37c-.4-.4-.92-.59-1.43-.59-.52 0-1.04.2-1.43.59L10.3 9.45l-7.72 7.72c-.78.78-.78 2.05 0 2.83L4 21.41c.39.39.9.59 1.41.59.51 0 1.02-.2 1.41-.59l7.78-7.78 2.81-2.81c.8-.78.8-2.07 0-2.86zM5.41 20L4 18.59l7.72-7.72 1.47 1.35L5.41 20z\"/>\n",
              "  </svg>\n",
              "      </button>\n",
              "\n",
              "\n",
              "\n",
              "    <div id=\"df-9007b0f2-479b-4df3-b051-b3a399f0f50a\">\n",
              "      <button class=\"colab-df-quickchart\" onclick=\"quickchart('df-9007b0f2-479b-4df3-b051-b3a399f0f50a')\"\n",
              "              title=\"Suggest charts.\"\n",
              "              style=\"display:none;\">\n",
              "\n",
              "<svg xmlns=\"http://www.w3.org/2000/svg\" height=\"24px\"viewBox=\"0 0 24 24\"\n",
              "     width=\"24px\">\n",
              "    <g>\n",
              "        <path d=\"M19 3H5c-1.1 0-2 .9-2 2v14c0 1.1.9 2 2 2h14c1.1 0 2-.9 2-2V5c0-1.1-.9-2-2-2zM9 17H7v-7h2v7zm4 0h-2V7h2v10zm4 0h-2v-4h2v4z\"/>\n",
              "    </g>\n",
              "</svg>\n",
              "      </button>\n",
              "    </div>\n",
              "\n",
              "<style>\n",
              "  .colab-df-quickchart {\n",
              "    background-color: #E8F0FE;\n",
              "    border: none;\n",
              "    border-radius: 50%;\n",
              "    cursor: pointer;\n",
              "    display: none;\n",
              "    fill: #1967D2;\n",
              "    height: 32px;\n",
              "    padding: 0 0 0 0;\n",
              "    width: 32px;\n",
              "  }\n",
              "\n",
              "  .colab-df-quickchart:hover {\n",
              "    background-color: #E2EBFA;\n",
              "    box-shadow: 0px 1px 2px rgba(60, 64, 67, 0.3), 0px 1px 3px 1px rgba(60, 64, 67, 0.15);\n",
              "    fill: #174EA6;\n",
              "  }\n",
              "\n",
              "  [theme=dark] .colab-df-quickchart {\n",
              "    background-color: #3B4455;\n",
              "    fill: #D2E3FC;\n",
              "  }\n",
              "\n",
              "  [theme=dark] .colab-df-quickchart:hover {\n",
              "    background-color: #434B5C;\n",
              "    box-shadow: 0px 1px 3px 1px rgba(0, 0, 0, 0.15);\n",
              "    filter: drop-shadow(0px 1px 2px rgba(0, 0, 0, 0.3));\n",
              "    fill: #FFFFFF;\n",
              "  }\n",
              "</style>\n",
              "\n",
              "    <script>\n",
              "      async function quickchart(key) {\n",
              "        const containerElement = document.querySelector('#' + key);\n",
              "        const charts = await google.colab.kernel.invokeFunction(\n",
              "            'suggestCharts', [key], {});\n",
              "      }\n",
              "    </script>\n",
              "\n",
              "      <script>\n",
              "\n",
              "function displayQuickchartButton(domScope) {\n",
              "  let quickchartButtonEl =\n",
              "    domScope.querySelector('#df-9007b0f2-479b-4df3-b051-b3a399f0f50a button.colab-df-quickchart');\n",
              "  quickchartButtonEl.style.display =\n",
              "    google.colab.kernel.accessAllowed ? 'block' : 'none';\n",
              "}\n",
              "\n",
              "        displayQuickchartButton(document);\n",
              "      </script>\n",
              "      <style>\n",
              "    .colab-df-container {\n",
              "      display:flex;\n",
              "      flex-wrap:wrap;\n",
              "      gap: 12px;\n",
              "    }\n",
              "\n",
              "    .colab-df-convert {\n",
              "      background-color: #E8F0FE;\n",
              "      border: none;\n",
              "      border-radius: 50%;\n",
              "      cursor: pointer;\n",
              "      display: none;\n",
              "      fill: #1967D2;\n",
              "      height: 32px;\n",
              "      padding: 0 0 0 0;\n",
              "      width: 32px;\n",
              "    }\n",
              "\n",
              "    .colab-df-convert:hover {\n",
              "      background-color: #E2EBFA;\n",
              "      box-shadow: 0px 1px 2px rgba(60, 64, 67, 0.3), 0px 1px 3px 1px rgba(60, 64, 67, 0.15);\n",
              "      fill: #174EA6;\n",
              "    }\n",
              "\n",
              "    [theme=dark] .colab-df-convert {\n",
              "      background-color: #3B4455;\n",
              "      fill: #D2E3FC;\n",
              "    }\n",
              "\n",
              "    [theme=dark] .colab-df-convert:hover {\n",
              "      background-color: #434B5C;\n",
              "      box-shadow: 0px 1px 3px 1px rgba(0, 0, 0, 0.15);\n",
              "      filter: drop-shadow(0px 1px 2px rgba(0, 0, 0, 0.3));\n",
              "      fill: #FFFFFF;\n",
              "    }\n",
              "  </style>\n",
              "\n",
              "      <script>\n",
              "        const buttonEl =\n",
              "          document.querySelector('#df-0f2eac92-2cf0-4edc-941f-65d67e88b196 button.colab-df-convert');\n",
              "        buttonEl.style.display =\n",
              "          google.colab.kernel.accessAllowed ? 'block' : 'none';\n",
              "\n",
              "        async function convertToInteractive(key) {\n",
              "          const element = document.querySelector('#df-0f2eac92-2cf0-4edc-941f-65d67e88b196');\n",
              "          const dataTable =\n",
              "            await google.colab.kernel.invokeFunction('convertToInteractive',\n",
              "                                                     [key], {});\n",
              "          if (!dataTable) return;\n",
              "\n",
              "          const docLinkHtml = 'Like what you see? Visit the ' +\n",
              "            '<a target=\"_blank\" href=https://colab.research.google.com/notebooks/data_table.ipynb>data table notebook</a>'\n",
              "            + ' to learn more about interactive tables.';\n",
              "          element.innerHTML = '';\n",
              "          dataTable['output_type'] = 'display_data';\n",
              "          await google.colab.output.renderOutput(dataTable, element);\n",
              "          const docLink = document.createElement('div');\n",
              "          docLink.innerHTML = docLinkHtml;\n",
              "          element.appendChild(docLink);\n",
              "        }\n",
              "      </script>\n",
              "    </div>\n",
              "  </div>\n"
            ]
          },
          "metadata": {},
          "execution_count": 30
        }
      ]
    },
    {
      "cell_type": "markdown",
      "metadata": {
        "id": "DQ9aiuxYfkbo"
      },
      "source": [
        "** Now create a simple plot off of the dataframe indicating the count of calls per month. **"
      ]
    },
    {
      "cell_type": "code",
      "source": [
        "byMonth['lat'].plot.line()"
      ],
      "metadata": {
        "colab": {
          "base_uri": "https://localhost:8080/",
          "height": 466
        },
        "id": "rm4nrwmEeoOq",
        "outputId": "fb3d0c13-2151-4353-8553-1997d2d6c2f1"
      },
      "execution_count": null,
      "outputs": [
        {
          "output_type": "execute_result",
          "data": {
            "text/plain": [
              "<Axes: xlabel='Month'>"
            ]
          },
          "metadata": {},
          "execution_count": 32
        },
        {
          "output_type": "display_data",
          "data": {
            "text/plain": [
              "<Figure size 640x480 with 1 Axes>"
            ],
            "image/png": "[encoded data removed]"
          },
          "metadata": {}
        }
      ]
    },
    {
      "cell_type": "markdown",
      "metadata": {
        "id": "faOrcZDFfkbo"
      },
      "source": [
        "** Now see if you can use seaborn's lmplot() to create a linear fit on the number of calls per month. Keep in mind you may need to reset the index to a column. **"
      ]
    },
    {
      "cell_type": "code",
      "source": [
        "byMonth.reset_index()"
      ],
      "metadata": {
        "colab": {
          "base_uri": "https://localhost:8080/",
          "height": 375
        },
        "id": "U76yotNgCuNx",
        "outputId": "5876d112-cd3b-4106-afbb-4bc5da60ec6c"
      },
      "execution_count": null,
      "outputs": [
        {
          "output_type": "execute_result",
          "data": {
            "text/plain": [
              "   Month    lat    lng   desc    zip  title  timeStamp    twp   addr      e  \\\n",
              "0      1  13205  13205  13205  11527  13205      13205  13203  13096  13205   \n",
              "1      2  11467  11467  11467   9930  11467      11467  11465  11396  11467   \n",
              "2      3  11101  11101  11101   9755  11101      11101  11092  11059  11101   \n",
              "3      4  11326  11326  11326   9895  11326      11326  11323  11283  11326   \n",
              "4      5  11423  11423  11423   9946  11423      11423  11420  11378  11423   \n",
              "5      6  11786  11786  11786  10212  11786      11786  11777  11732  11786   \n",
              "6      7  12137  12137  12137  10633  12137      12137  12133  12088  12137   \n",
              "7      8   9078   9078   9078   7832   9078       9078   9073   9025   9078   \n",
              "8     12   7969   7969   7969   6907   7969       7969   7963   7916   7969   \n",
              "\n",
              "   Reason   Hour  Day of Week  \n",
              "0   13205  13205        13205  \n",
              "1   11467  11467        11467  \n",
              "2   11101  11101        11101  \n",
              "3   11326  11326        11326  \n",
              "4   11423  11423        11423  \n",
              "5   11786  11786        11786  \n",
              "6   12137  12137        12137  \n",
              "7    9078   9078         9078  \n",
              "8    7969   7969         7969  "
            ],
            "text/html": [
              "\n",
              "\n",
              "  <div id=\"df-310714e7-f9d1-4443-b1ef-e235070acf75\">\n",
              "    <div class=\"colab-df-container\">\n",
              "      <div>\n",
              "<style scoped>\n",
              "    .dataframe tbody tr th:only-of-type {\n",
              "        vertical-align: middle;\n",
              "    }\n",
              "\n",
              "    .dataframe tbody tr th {\n",
              "        vertical-align: top;\n",
              "    }\n",
              "\n",
              "    .dataframe thead th {\n",
              "        text-align: right;\n",
              "    }\n",
              "</style>\n",
              "<table border=\"1\" class=\"dataframe\">\n",
              "  <thead>\n",
              "    <tr style=\"text-align: right;\">\n",
              "      <th></th>\n",
              "      <th>Month</th>\n",
              "      <th>lat</th>\n",
              "      <th>lng</th>\n",
              "      <th>desc</th>\n",
              "      <th>zip</th>\n",
              "      <th>title</th>\n",
              "      <th>timeStamp</th>\n",
              "      <th>twp</th>\n",
              "      <th>addr</th>\n",
              "      <th>e</th>\n",
              "      <th>Reason</th>\n",
              "      <th>Hour</th>\n",
              "      <th>Day of Week</th>\n",
              "    </tr>\n",
              "  </thead>\n",
              "  <tbody>\n",
              "    <tr>\n",
              "      <th>0</th>\n",
              "      <td>1</td>\n",
              "      <td>13205</td>\n",
              "      <td>13205</td>\n",
              "      <td>13205</td>\n",
              "      <td>11527</td>\n",
              "      <td>13205</td>\n",
              "      <td>13205</td>\n",
              "      <td>13203</td>\n",
              "      <td>13096</td>\n",
              "      <td>13205</td>\n",
              "      <td>13205</td>\n",
              "      <td>13205</td>\n",
              "      <td>13205</td>\n",
              "    </tr>\n",
              "    <tr>\n",
              "      <th>1</th>\n",
              "      <td>2</td>\n",
              "      <td>11467</td>\n",
              "      <td>11467</td>\n",
              "      <td>11467</td>\n",
              "      <td>9930</td>\n",
              "      <td>11467</td>\n",
              "      <td>11467</td>\n",
              "      <td>11465</td>\n",
              "      <td>11396</td>\n",
              "      <td>11467</td>\n",
              "      <td>11467</td>\n",
              "      <td>11467</td>\n",
              "      <td>11467</td>\n",
              "    </tr>\n",
              "    <tr>\n",
              "      <th>2</th>\n",
              "      <td>3</td>\n",
              "      <td>11101</td>\n",
              "      <td>11101</td>\n",
              "      <td>11101</td>\n",
              "      <td>9755</td>\n",
              "      <td>11101</td>\n",
              "      <td>11101</td>\n",
              "      <td>11092</td>\n",
              "      <td>11059</td>\n",
              "      <td>11101</td>\n",
              "      <td>11101</td>\n",
              "      <td>11101</td>\n",
              "      <td>11101</td>\n",
              "    </tr>\n",
              "    <tr>\n",
              "      <th>3</th>\n",
              "      <td>4</td>\n",
              "      <td>11326</td>\n",
              "      <td>11326</td>\n",
              "      <td>11326</td>\n",
              "      <td>9895</td>\n",
              "      <td>11326</td>\n",
              "      <td>11326</td>\n",
              "      <td>11323</td>\n",
              "      <td>11283</td>\n",
              "      <td>11326</td>\n",
              "      <td>11326</td>\n",
              "      <td>11326</td>\n",
              "      <td>11326</td>\n",
              "    </tr>\n",
              "    <tr>\n",
              "      <th>4</th>\n",
              "      <td>5</td>\n",
              "      <td>11423</td>\n",
              "      <td>11423</td>\n",
              "      <td>11423</td>\n",
              "      <td>9946</td>\n",
              "      <td>11423</td>\n",
              "      <td>11423</td>\n",
              "      <td>11420</td>\n",
              "      <td>11378</td>\n",
              "      <td>11423</td>\n",
              "      <td>11423</td>\n",
              "      <td>11423</td>\n",
              "      <td>11423</td>\n",
              "    </tr>\n",
              "    <tr>\n",
              "      <th>5</th>\n",
              "      <td>6</td>\n",
              "      <td>11786</td>\n",
              "      <td>11786</td>\n",
              "      <td>11786</td>\n",
              "      <td>10212</td>\n",
              "      <td>11786</td>\n",
              "      <td>11786</td>\n",
              "      <td>11777</td>\n",
              "      <td>11732</td>\n",
              "      <td>11786</td>\n",
              "      <td>11786</td>\n",
              "      <td>11786</td>\n",
              "      <td>11786</td>\n",
              "    </tr>\n",
              "    <tr>\n",
              "      <th>6</th>\n",
              "      <td>7</td>\n",
              "      <td>12137</td>\n",
              "      <td>12137</td>\n",
              "      <td>12137</td>\n",
              "      <td>10633</td>\n",
              "      <td>12137</td>\n",
              "      <td>12137</td>\n",
              "      <td>12133</td>\n",
              "      <td>12088</td>\n",
              "      <td>12137</td>\n",
              "      <td>12137</td>\n",
              "      <td>12137</td>\n",
              "      <td>12137</td>\n",
              "    </tr>\n",
              "    <tr>\n",
              "      <th>7</th>\n",
              "      <td>8</td>\n",
              "      <td>9078</td>\n",
              "      <td>9078</td>\n",
              "      <td>9078</td>\n",
              "      <td>7832</td>\n",
              "      <td>9078</td>\n",
              "      <td>9078</td>\n",
              "      <td>9073</td>\n",
              "      <td>9025</td>\n",
              "      <td>9078</td>\n",
              "      <td>9078</td>\n",
              "      <td>9078</td>\n",
              "      <td>9078</td>\n",
              "    </tr>\n",
              "    <tr>\n",
              "      <th>8</th>\n",
              "      <td>12</td>\n",
              "      <td>7969</td>\n",
              "      <td>7969</td>\n",
              "      <td>7969</td>\n",
              "      <td>6907</td>\n",
              "      <td>7969</td>\n",
              "      <td>7969</td>\n",
              "      <td>7963</td>\n",
              "      <td>7916</td>\n",
              "      <td>7969</td>\n",
              "      <td>7969</td>\n",
              "      <td>7969</td>\n",
              "      <td>7969</td>\n",
              "    </tr>\n",
              "  </tbody>\n",
              "</table>\n",
              "</div>\n",
              "      <button class=\"colab-df-convert\" onclick=\"convertToInteractive('df-310714e7-f9d1-4443-b1ef-e235070acf75')\"\n",
              "              title=\"Convert this dataframe to an interactive table.\"\n",
              "              style=\"display:none;\">\n",
              "\n",
              "  <svg xmlns=\"http://www.w3.org/2000/svg\" height=\"24px\"viewBox=\"0 0 24 24\"\n",
              "       width=\"24px\">\n",
              "    <path d=\"M0 0h24v24H0V0z\" fill=\"none\"/>\n",
              "    <path d=\"M18.56 5.44l.94 2.06.94-2.06 2.06-.94-2.06-.94-.94-2.06-.94 2.06-2.06.94zm-11 1L8.5 8.5l.94-2.06 2.06-.94-2.06-.94L8.5 2.5l-.94 2.06-2.06.94zm10 10l.94 2.06.94-2.06 2.06-.94-2.06-.94-.94-2.06-.94 2.06-2.06.94z\"/><path d=\"M17.41 7.96l-1.37-1.37c-.4-.4-.92-.59-1.43-.59-.52 0-1.04.2-1.43.59L10.3 9.45l-7.72 7.72c-.78.78-.78 2.05 0 2.83L4 21.41c.39.39.9.59 1.41.59.51 0 1.02-.2 1.41-.59l7.78-7.78 2.81-2.81c.8-.78.8-2.07 0-2.86zM5.41 20L4 18.59l7.72-7.72 1.47 1.35L5.41 20z\"/>\n",
              "  </svg>\n",
              "      </button>\n",
              "\n",
              "\n",
              "\n",
              "    <div id=\"df-c82e5e5c-7c82-446e-86e6-3590403dd89c\">\n",
              "      <button class=\"colab-df-quickchart\" onclick=\"quickchart('df-c82e5e5c-7c82-446e-86e6-3590403dd89c')\"\n",
              "              title=\"Suggest charts.\"\n",
              "              style=\"display:none;\">\n",
              "\n",
              "<svg xmlns=\"http://www.w3.org/2000/svg\" height=\"24px\"viewBox=\"0 0 24 24\"\n",
              "     width=\"24px\">\n",
              "    <g>\n",
              "        <path d=\"M19 3H5c-1.1 0-2 .9-2 2v14c0 1.1.9 2 2 2h14c1.1 0 2-.9 2-2V5c0-1.1-.9-2-2-2zM9 17H7v-7h2v7zm4 0h-2V7h2v10zm4 0h-2v-4h2v4z\"/>\n",
              "    </g>\n",
              "</svg>\n",
              "      </button>\n",
              "    </div>\n",
              "\n",
              "<style>\n",
              "  .colab-df-quickchart {\n",
              "    background-color: #E8F0FE;\n",
              "    border: none;\n",
              "    border-radius: 50%;\n",
              "    cursor: pointer;\n",
              "    display: none;\n",
              "    fill: #1967D2;\n",
              "    height: 32px;\n",
              "    padding: 0 0 0 0;\n",
              "    width: 32px;\n",
              "  }\n",
              "\n",
              "  .colab-df-quickchart:hover {\n",
              "    background-color: #E2EBFA;\n",
              "    box-shadow: 0px 1px 2px rgba(60, 64, 67, 0.3), 0px 1px 3px 1px rgba(60, 64, 67, 0.15);\n",
              "    fill: #174EA6;\n",
              "  }\n",
              "\n",
              "  [theme=dark] .colab-df-quickchart {\n",
              "    background-color: #3B4455;\n",
              "    fill: #D2E3FC;\n",
              "  }\n",
              "\n",
              "  [theme=dark] .colab-df-quickchart:hover {\n",
              "    background-color: #434B5C;\n",
              "    box-shadow: 0px 1px 3px 1px rgba(0, 0, 0, 0.15);\n",
              "    filter: drop-shadow(0px 1px 2px rgba(0, 0, 0, 0.3));\n",
              "    fill: #FFFFFF;\n",
              "  }\n",
              "</style>\n",
              "\n",
              "    <script>\n",
              "      async function quickchart(key) {\n",
              "        const containerElement = document.querySelector('#' + key);\n",
              "        const charts = await google.colab.kernel.invokeFunction(\n",
              "            'suggestCharts', [key], {});\n",
              "      }\n",
              "    </script>\n",
              "\n",
              "      <script>\n",
              "\n",
              "function displayQuickchartButton(domScope) {\n",
              "  let quickchartButtonEl =\n",
              "    domScope.querySelector('#df-c82e5e5c-7c82-446e-86e6-3590403dd89c button.colab-df-quickchart');\n",
              "  quickchartButtonEl.style.display =\n",
              "    google.colab.kernel.accessAllowed ? 'block' : 'none';\n",
              "}\n",
              "\n",
              "        displayQuickchartButton(document);\n",
              "      </script>\n",
              "      <style>\n",
              "    .colab-df-container {\n",
              "      display:flex;\n",
              "      flex-wrap:wrap;\n",
              "      gap: 12px;\n",
              "    }\n",
              "\n",
              "    .colab-df-convert {\n",
              "      background-color: #E8F0FE;\n",
              "      border: none;\n",
              "      border-radius: 50%;\n",
              "      cursor: pointer;\n",
              "      display: none;\n",
              "      fill: #1967D2;\n",
              "      height: 32px;\n",
              "      padding: 0 0 0 0;\n",
              "      width: 32px;\n",
              "    }\n",
              "\n",
              "    .colab-df-convert:hover {\n",
              "      background-color: #E2EBFA;\n",
              "      box-shadow: 0px 1px 2px rgba(60, 64, 67, 0.3), 0px 1px 3px 1px rgba(60, 64, 67, 0.15);\n",
              "      fill: #174EA6;\n",
              "    }\n",
              "\n",
              "    [theme=dark] .colab-df-convert {\n",
              "      background-color: #3B4455;\n",
              "      fill: #D2E3FC;\n",
              "    }\n",
              "\n",
              "    [theme=dark] .colab-df-convert:hover {\n",
              "      background-color: #434B5C;\n",
              "      box-shadow: 0px 1px 3px 1px rgba(0, 0, 0, 0.15);\n",
              "      filter: drop-shadow(0px 1px 2px rgba(0, 0, 0, 0.3));\n",
              "      fill: #FFFFFF;\n",
              "    }\n",
              "  </style>\n",
              "\n",
              "      <script>\n",
              "        const buttonEl =\n",
              "          document.querySelector('#df-310714e7-f9d1-4443-b1ef-e235070acf75 button.colab-df-convert');\n",
              "        buttonEl.style.display =\n",
              "          google.colab.kernel.accessAllowed ? 'block' : 'none';\n",
              "\n",
              "        async function convertToInteractive(key) {\n",
              "          const element = document.querySelector('#df-310714e7-f9d1-4443-b1ef-e235070acf75');\n",
              "          const dataTable =\n",
              "            await google.colab.kernel.invokeFunction('convertToInteractive',\n",
              "                                                     [key], {});\n",
              "          if (!dataTable) return;\n",
              "\n",
              "          const docLinkHtml = 'Like what you see? Visit the ' +\n",
              "            '<a target=\"_blank\" href=https://colab.research.google.com/notebooks/data_table.ipynb>data table notebook</a>'\n",
              "            + ' to learn more about interactive tables.';\n",
              "          element.innerHTML = '';\n",
              "          dataTable['output_type'] = 'display_data';\n",
              "          await google.colab.output.renderOutput(dataTable, element);\n",
              "          const docLink = document.createElement('div');\n",
              "          docLink.innerHTML = docLinkHtml;\n",
              "          element.appendChild(docLink);\n",
              "        }\n",
              "      </script>\n",
              "    </div>\n",
              "  </div>\n"
            ]
          },
          "metadata": {},
          "execution_count": 33
        }
      ]
    },
    {
      "cell_type": "code",
      "execution_count": null,
      "metadata": {
        "id": "ZEaRhYqTfkbo",
        "outputId": "7dbf1d79-016a-424e-802a-98816332b5e4",
        "colab": {
          "base_uri": "https://localhost:8080/",
          "height": 523
        }
      },
      "outputs": [
        {
          "output_type": "execute_result",
          "data": {
            "text/plain": [
              "<seaborn.axisgrid.FacetGrid at 0x7e4bb0817d30>"
            ]
          },
          "metadata": {},
          "execution_count": 36
        },
        {
          "output_type": "display_data",
          "data": {
            "text/plain": [
              "<Figure size 500x500 with 1 Axes>"
            ],
            "image/png": "[encoded data removed]"
          },
          "metadata": {}
        }
      ],
      "source": [
        "sns.lmplot(x='Month',y='twp',data=byMonth.reset_index())\n"
      ]
    },
    {
      "cell_type": "markdown",
      "metadata": {
        "id": "62FLTNT7fkbp"
      },
      "source": [
        "**Create a new column called 'Date' that contains the date from the timeStamp column. You'll need to use apply along with the .date() method. **"
      ]
    },
    {
      "cell_type": "code",
      "execution_count": null,
      "metadata": {
        "collapsed": true,
        "id": "tp5we-oKfkbp"
      },
      "outputs": [],
      "source": [
        "df['Date']=df['timeStamp'].apply(lambda a: a.date())"
      ]
    },
    {
      "cell_type": "markdown",
      "metadata": {
        "id": "gTsz3Rvnfkbp"
      },
      "source": [
        "** Now groupby this Date column with the count() aggregate and create a plot of counts of 911 calls.**"
      ]
    },
    {
      "cell_type": "code",
      "source": [
        "groupByDate=df.groupby('Date').count()"
      ],
      "metadata": {
        "id": "jDAr7HU9E5_-"
      },
      "execution_count": null,
      "outputs": []
    },
    {
      "cell_type": "code",
      "source": [
        "groupByDate.head()"
      ],
      "metadata": {
        "colab": {
          "base_uri": "https://localhost:8080/",
          "height": 237
        },
        "id": "FxYemD72GHzR",
        "outputId": "52fb57b3-baa5-46a2-bd30-2d37b3f74e92"
      },
      "execution_count": null,
      "outputs": [
        {
          "output_type": "execute_result",
          "data": {
            "text/plain": [
              "            lat  lng  desc  zip  title  timeStamp  twp  addr    e  Reason  \\\n",
              "Date                                                                        \n",
              "2015-12-10  115  115   115  100    115        115  115   113  115     115   \n",
              "2015-12-11  396  396   396  333    396        396  395   391  396     396   \n",
              "2015-12-12  403  403   403  333    403        403  403   401  403     403   \n",
              "2015-12-13  319  319   319  280    319        319  319   317  319     319   \n",
              "2015-12-14  447  447   447  387    447        447  446   445  447     447   \n",
              "\n",
              "            Hour  Month  Day of Week  \n",
              "Date                                  \n",
              "2015-12-10   115    115          115  \n",
              "2015-12-11   396    396          396  \n",
              "2015-12-12   403    403          403  \n",
              "2015-12-13   319    319          319  \n",
              "2015-12-14   447    447          447  "
            ],
            "text/html": [
              "\n",
              "\n",
              "  <div id=\"df-35687e4a-0bb6-4d6a-bf51-651605b606d9\">\n",
              "    <div class=\"colab-df-container\">\n",
              "      <div>\n",
              "<style scoped>\n",
              "    .dataframe tbody tr th:only-of-type {\n",
              "        vertical-align: middle;\n",
              "    }\n",
              "\n",
              "    .dataframe tbody tr th {\n",
              "        vertical-align: top;\n",
              "    }\n",
              "\n",
              "    .dataframe thead th {\n",
              "        text-align: right;\n",
              "    }\n",
              "</style>\n",
              "<table border=\"1\" class=\"dataframe\">\n",
              "  <thead>\n",
              "    <tr style=\"text-align: right;\">\n",
              "      <th></th>\n",
              "      <th>lat</th>\n",
              "      <th>lng</th>\n",
              "      <th>desc</th>\n",
              "      <th>zip</th>\n",
              "      <th>title</th>\n",
              "      <th>timeStamp</th>\n",
              "      <th>twp</th>\n",
              "      <th>addr</th>\n",
              "      <th>e</th>\n",
              "      <th>Reason</th>\n",
              "      <th>Hour</th>\n",
              "      <th>Month</th>\n",
              "      <th>Day of Week</th>\n",
              "    </tr>\n",
              "    <tr>\n",
              "      <th>Date</th>\n",
              "      <th></th>\n",
              "      <th></th>\n",
              "      <th></th>\n",
              "      <th></th>\n",
              "      <th></th>\n",
              "      <th></th>\n",
              "      <th></th>\n",
              "      <th></th>\n",
              "      <th></th>\n",
              "      <th></th>\n",
              "      <th></th>\n",
              "      <th></th>\n",
              "      <th></th>\n",
              "    </tr>\n",
              "  </thead>\n",
              "  <tbody>\n",
              "    <tr>\n",
              "      <th>2015-12-10</th>\n",
              "      <td>115</td>\n",
              "      <td>115</td>\n",
              "      <td>115</td>\n",
              "      <td>100</td>\n",
              "      <td>115</td>\n",
              "      <td>115</td>\n",
              "      <td>115</td>\n",
              "      <td>113</td>\n",
              "      <td>115</td>\n",
              "      <td>115</td>\n",
              "      <td>115</td>\n",
              "      <td>115</td>\n",
              "      <td>115</td>\n",
              "    </tr>\n",
              "    <tr>\n",
              "      <th>2015-12-11</th>\n",
              "      <td>396</td>\n",
              "      <td>396</td>\n",
              "      <td>396</td>\n",
              "      <td>333</td>\n",
              "      <td>396</td>\n",
              "      <td>396</td>\n",
              "      <td>395</td>\n",
              "      <td>391</td>\n",
              "      <td>396</td>\n",
              "      <td>396</td>\n",
              "      <td>396</td>\n",
              "      <td>396</td>\n",
              "      <td>396</td>\n",
              "    </tr>\n",
              "    <tr>\n",
              "      <th>2015-12-12</th>\n",
              "      <td>403</td>\n",
              "      <td>403</td>\n",
              "      <td>403</td>\n",
              "      <td>333</td>\n",
              "      <td>403</td>\n",
              "      <td>403</td>\n",
              "      <td>403</td>\n",
              "      <td>401</td>\n",
              "      <td>403</td>\n",
              "      <td>403</td>\n",
              "      <td>403</td>\n",
              "      <td>403</td>\n",
              "      <td>403</td>\n",
              "    </tr>\n",
              "    <tr>\n",
              "      <th>2015-12-13</th>\n",
              "      <td>319</td>\n",
              "      <td>319</td>\n",
              "      <td>319</td>\n",
              "      <td>280</td>\n",
              "      <td>319</td>\n",
              "      <td>319</td>\n",
              "      <td>319</td>\n",
              "      <td>317</td>\n",
              "      <td>319</td>\n",
              "      <td>319</td>\n",
              "      <td>319</td>\n",
              "      <td>319</td>\n",
              "      <td>319</td>\n",
              "    </tr>\n",
              "    <tr>\n",
              "      <th>2015-12-14</th>\n",
              "      <td>447</td>\n",
              "      <td>447</td>\n",
              "      <td>447</td>\n",
              "      <td>387</td>\n",
              "      <td>447</td>\n",
              "      <td>447</td>\n",
              "      <td>446</td>\n",
              "      <td>445</td>\n",
              "      <td>447</td>\n",
              "      <td>447</td>\n",
              "      <td>447</td>\n",
              "      <td>447</td>\n",
              "      <td>447</td>\n",
              "    </tr>\n",
              "  </tbody>\n",
              "</table>\n",
              "</div>\n",
              "      <button class=\"colab-df-convert\" onclick=\"convertToInteractive('df-35687e4a-0bb6-4d6a-bf51-651605b606d9')\"\n",
              "              title=\"Convert this dataframe to an interactive table.\"\n",
              "              style=\"display:none;\">\n",
              "\n",
              "  <svg xmlns=\"http://www.w3.org/2000/svg\" height=\"24px\"viewBox=\"0 0 24 24\"\n",
              "       width=\"24px\">\n",
              "    <path d=\"M0 0h24v24H0V0z\" fill=\"none\"/>\n",
              "    <path d=\"M18.56 5.44l.94 2.06.94-2.06 2.06-.94-2.06-.94-.94-2.06-.94 2.06-2.06.94zm-11 1L8.5 8.5l.94-2.06 2.06-.94-2.06-.94L8.5 2.5l-.94 2.06-2.06.94zm10 10l.94 2.06.94-2.06 2.06-.94-2.06-.94-.94-2.06-.94 2.06-2.06.94z\"/><path d=\"M17.41 7.96l-1.37-1.37c-.4-.4-.92-.59-1.43-.59-.52 0-1.04.2-1.43.59L10.3 9.45l-7.72 7.72c-.78.78-.78 2.05 0 2.83L4 21.41c.39.39.9.59 1.41.59.51 0 1.02-.2 1.41-.59l7.78-7.78 2.81-2.81c.8-.78.8-2.07 0-2.86zM5.41 20L4 18.59l7.72-7.72 1.47 1.35L5.41 20z\"/>\n",
              "  </svg>\n",
              "      </button>\n",
              "\n",
              "\n",
              "\n",
              "    <div id=\"df-6b3ab553-d46b-4d16-8e94-a40899ee8c11\">\n",
              "      <button class=\"colab-df-quickchart\" onclick=\"quickchart('df-6b3ab553-d46b-4d16-8e94-a40899ee8c11')\"\n",
              "              title=\"Suggest charts.\"\n",
              "              style=\"display:none;\">\n",
              "\n",
              "<svg xmlns=\"http://www.w3.org/2000/svg\" height=\"24px\"viewBox=\"0 0 24 24\"\n",
              "     width=\"24px\">\n",
              "    <g>\n",
              "        <path d=\"M19 3H5c-1.1 0-2 .9-2 2v14c0 1.1.9 2 2 2h14c1.1 0 2-.9 2-2V5c0-1.1-.9-2-2-2zM9 17H7v-7h2v7zm4 0h-2V7h2v10zm4 0h-2v-4h2v4z\"/>\n",
              "    </g>\n",
              "</svg>\n",
              "      </button>\n",
              "    </div>\n",
              "\n",
              "<style>\n",
              "  .colab-df-quickchart {\n",
              "    background-color: #E8F0FE;\n",
              "    border: none;\n",
              "    border-radius: 50%;\n",
              "    cursor: pointer;\n",
              "    display: none;\n",
              "    fill: #1967D2;\n",
              "    height: 32px;\n",
              "    padding: 0 0 0 0;\n",
              "    width: 32px;\n",
              "  }\n",
              "\n",
              "  .colab-df-quickchart:hover {\n",
              "    background-color: #E2EBFA;\n",
              "    box-shadow: 0px 1px 2px rgba(60, 64, 67, 0.3), 0px 1px 3px 1px rgba(60, 64, 67, 0.15);\n",
              "    fill: #174EA6;\n",
              "  }\n",
              "\n",
              "  [theme=dark] .colab-df-quickchart {\n",
              "    background-color: #3B4455;\n",
              "    fill: #D2E3FC;\n",
              "  }\n",
              "\n",
              "  [theme=dark] .colab-df-quickchart:hover {\n",
              "    background-color: #434B5C;\n",
              "    box-shadow: 0px 1px 3px 1px rgba(0, 0, 0, 0.15);\n",
              "    filter: drop-shadow(0px 1px 2px rgba(0, 0, 0, 0.3));\n",
              "    fill: #FFFFFF;\n",
              "  }\n",
              "</style>\n",
              "\n",
              "    <script>\n",
              "      async function quickchart(key) {\n",
              "        const containerElement = document.querySelector('#' + key);\n",
              "        const charts = await google.colab.kernel.invokeFunction(\n",
              "            'suggestCharts', [key], {});\n",
              "      }\n",
              "    </script>\n",
              "\n",
              "      <script>\n",
              "\n",
              "function displayQuickchartButton(domScope) {\n",
              "  let quickchartButtonEl =\n",
              "    domScope.querySelector('#df-6b3ab553-d46b-4d16-8e94-a40899ee8c11 button.colab-df-quickchart');\n",
              "  quickchartButtonEl.style.display =\n",
              "    google.colab.kernel.accessAllowed ? 'block' : 'none';\n",
              "}\n",
              "\n",
              "        displayQuickchartButton(document);\n",
              "      </script>\n",
              "      <style>\n",
              "    .colab-df-container {\n",
              "      display:flex;\n",
              "      flex-wrap:wrap;\n",
              "      gap: 12px;\n",
              "    }\n",
              "\n",
              "    .colab-df-convert {\n",
              "      background-color: #E8F0FE;\n",
              "      border: none;\n",
              "      border-radius: 50%;\n",
              "      cursor: pointer;\n",
              "      display: none;\n",
              "      fill: #1967D2;\n",
              "      height: 32px;\n",
              "      padding: 0 0 0 0;\n",
              "      width: 32px;\n",
              "    }\n",
              "\n",
              "    .colab-df-convert:hover {\n",
              "      background-color: #E2EBFA;\n",
              "      box-shadow: 0px 1px 2px rgba(60, 64, 67, 0.3), 0px 1px 3px 1px rgba(60, 64, 67, 0.15);\n",
              "      fill: #174EA6;\n",
              "    }\n",
              "\n",
              "    [theme=dark] .colab-df-convert {\n",
              "      background-color: #3B4455;\n",
              "      fill: #D2E3FC;\n",
              "    }\n",
              "\n",
              "    [theme=dark] .colab-df-convert:hover {\n",
              "      background-color: #434B5C;\n",
              "      box-shadow: 0px 1px 3px 1px rgba(0, 0, 0, 0.15);\n",
              "      filter: drop-shadow(0px 1px 2px rgba(0, 0, 0, 0.3));\n",
              "      fill: #FFFFFF;\n",
              "    }\n",
              "  </style>\n",
              "\n",
              "      <script>\n",
              "        const buttonEl =\n",
              "          document.querySelector('#df-35687e4a-0bb6-4d6a-bf51-651605b606d9 button.colab-df-convert');\n",
              "        buttonEl.style.display =\n",
              "          google.colab.kernel.accessAllowed ? 'block' : 'none';\n",
              "\n",
              "        async function convertToInteractive(key) {\n",
              "          const element = document.querySelector('#df-35687e4a-0bb6-4d6a-bf51-651605b606d9');\n",
              "          const dataTable =\n",
              "            await google.colab.kernel.invokeFunction('convertToInteractive',\n",
              "                                                     [key], {});\n",
              "          if (!dataTable) return;\n",
              "\n",
              "          const docLinkHtml = 'Like what you see? Visit the ' +\n",
              "            '<a target=\"_blank\" href=https://colab.research.google.com/notebooks/data_table.ipynb>data table notebook</a>'\n",
              "            + ' to learn more about interactive tables.';\n",
              "          element.innerHTML = '';\n",
              "          dataTable['output_type'] = 'display_data';\n",
              "          await google.colab.output.renderOutput(dataTable, element);\n",
              "          const docLink = document.createElement('div');\n",
              "          docLink.innerHTML = docLinkHtml;\n",
              "          element.appendChild(docLink);\n",
              "        }\n",
              "      </script>\n",
              "    </div>\n",
              "  </div>\n"
            ]
          },
          "metadata": {},
          "execution_count": 51
        }
      ]
    },
    {
      "cell_type": "code",
      "source": [
        "groupByDate['timeStamp'].plot.line()"
      ],
      "metadata": {
        "colab": {
          "base_uri": "https://localhost:8080/",
          "height": 466
        },
        "id": "P_57vEgdG9Lm",
        "outputId": "7f94bd20-7b84-4c78-a480-fdc31081b886"
      },
      "execution_count": null,
      "outputs": [
        {
          "output_type": "execute_result",
          "data": {
            "text/plain": [
              "<Axes: xlabel='Date'>"
            ]
          },
          "metadata": {},
          "execution_count": 53
        },
        {
          "output_type": "display_data",
          "data": {
            "text/plain": [
              "<Figure size 640x480 with 1 Axes>"
            ],
            "image/png": "[encoded data removed]"
          },
          "metadata": {}
        }
      ]
    },
    {
      "cell_type": "markdown",
      "metadata": {
        "id": "7411ceLOfkbp"
      },
      "source": [
        "** Now recreate this plot but create 3 separate plots with each plot representing a Reason for the 911 call**"
      ]
    },
    {
      "cell_type": "code",
      "source": [
        "df[df['Reason']=='Traffic'].groupby('Date').count()['twp'].plot()\n",
        "plt.title('Traffic')\n",
        "plt.tight_layout()"
      ],
      "metadata": {
        "colab": {
          "base_uri": "https://localhost:8080/",
          "height": 487
        },
        "id": "nKYUQmNQIPti",
        "outputId": "fe307831-7263-42f8-b5c2-a1303958ad42"
      },
      "execution_count": null,
      "outputs": [
        {
          "output_type": "display_data",
          "data": {
            "text/plain": [
              "<Figure size 640x480 with 1 Axes>"
            ],
            "image/png": "[encoded data removed]"
          },
          "metadata": {}
        }
      ]
    },
    {
      "cell_type": "code",
      "execution_count": null,
      "metadata": {
        "id": "bGAQZUr5fkbp",
        "outputId": "2e30b252-6649-4138-a8e8-8bbc8f374ab3",
        "colab": {
          "base_uri": "https://localhost:8080/",
          "height": 487
        }
      },
      "outputs": [
        {
          "output_type": "display_data",
          "data": {
            "text/plain": [
              "<Figure size 640x480 with 1 Axes>"
            ],
            "image/png": "[encoded data removed]"
          },
          "metadata": {}
        }
      ],
      "source": [
        "df[df['Reason']=='Fire'].groupby('Date').count()['twp'].plot()\n",
        "plt.title('Fire')\n",
        "plt.tight_layout()"
      ]
    },
    {
      "cell_type": "code",
      "execution_count": null,
      "metadata": {
        "id": "RWfLFGEgfkbp",
        "outputId": "030e450f-e8e7-4c0e-f8d8-eb4643d4c66d",
        "colab": {
          "base_uri": "https://localhost:8080/",
          "height": 487
        }
      },
      "outputs": [
        {
          "output_type": "display_data",
          "data": {
            "text/plain": [
              "<Figure size 640x480 with 1 Axes>"
            ],
            "image/png": "[encoded data removed]"
          },
          "metadata": {}
        }
      ],
      "source": [
        "df[df['Reason']=='Traffic'].groupby('Date').count()['twp'].plot()\n",
        "plt.title('EMS')\n",
        "plt.tight_layout()"
      ]
    },
    {
      "cell_type": "markdown",
      "metadata": {
        "collapsed": false,
        "id": "4MgiG12Hfkbp"
      },
      "source": [
        "____\n",
        "** Now let's move on to creating  heatmaps with seaborn and our data. We'll first need to restructure the dataframe so that the columns become the Hours and the Index becomes the Day of the Week. There are lots of ways to do this, but I would recommend trying to combine groupby with an [unstack](http://pandas.pydata.org/pandas-docs/stable/generated/pandas.DataFrame.unstack.html) method. Reference the solutions if you get stuck on this!**"
      ]
    },
    {
      "cell_type": "code",
      "source": [
        "dayHour = df.groupby(by=['Day of Week','Hour']).count()['Reason'].unstack()\n",
        "dayHour.head()"
      ],
      "metadata": {
        "colab": {
          "base_uri": "https://localhost:8080/",
          "height": 345
        },
        "id": "LXM1Lr7mKKiT",
        "outputId": "bddbc7d5-d98a-4f50-c67a-2c2c7f13bed9"
      },
      "execution_count": 76,
      "outputs": [
        {
          "output_type": "execute_result",
          "data": {
            "text/plain": [
              "Hour          0    1    2    3    4    5    6    7    8    9   ...   14   15  \\\n",
              "Day of Week                                                    ...             \n",
              "Fri          275  235  191  175  201  194  372  598  742  752  ...  932  980   \n",
              "Mon          282  221  201  194  204  267  397  653  819  786  ...  869  913   \n",
              "Sat          375  301  263  260  224  231  257  391  459  640  ...  789  796   \n",
              "Sun          383  306  286  268  242  240  300  402  483  620  ...  684  691   \n",
              "Thu          278  202  233  159  182  203  362  570  777  828  ...  876  969   \n",
              "\n",
              "Hour           16    17   18   19   20   21   22   23  \n",
              "Day of Week                                            \n",
              "Fri          1039   980  820  696  667  559  514  474  \n",
              "Mon           989   997  885  746  613  497  472  325  \n",
              "Sat           848   757  778  696  628  572  506  467  \n",
              "Sun           663   714  670  655  537  461  415  330  \n",
              "Thu           935  1013  810  698  617  553  424  354  \n",
              "\n",
              "[5 rows x 24 columns]"
            ],
            "text/html": [
              "\n",
              "\n",
              "  <div id=\"df-1f9b0419-8111-4a46-8f6f-1ae461c7d9bd\">\n",
              "    <div class=\"colab-df-container\">\n",
              "      <div>\n",
              "<style scoped>\n",
              "    .dataframe tbody tr th:only-of-type {\n",
              "        vertical-align: middle;\n",
              "    }\n",
              "\n",
              "    .dataframe tbody tr th {\n",
              "        vertical-align: top;\n",
              "    }\n",
              "\n",
              "    .dataframe thead th {\n",
              "        text-align: right;\n",
              "    }\n",
              "</style>\n",
              "<table border=\"1\" class=\"dataframe\">\n",
              "  <thead>\n",
              "    <tr style=\"text-align: right;\">\n",
              "      <th>Hour</th>\n",
              "      <th>0</th>\n",
              "      <th>1</th>\n",
              "      <th>2</th>\n",
              "      <th>3</th>\n",
              "      <th>4</th>\n",
              "      <th>5</th>\n",
              "      <th>6</th>\n",
              "      <th>7</th>\n",
              "      <th>8</th>\n",
              "      <th>9</th>\n",
              "      <th>...</th>\n",
              "      <th>14</th>\n",
              "      <th>15</th>\n",
              "      <th>16</th>\n",
              "      <th>17</th>\n",
              "      <th>18</th>\n",
              "      <th>19</th>\n",
              "      <th>20</th>\n",
              "      <th>21</th>\n",
              "      <th>22</th>\n",
              "      <th>23</th>\n",
              "    </tr>\n",
              "    <tr>\n",
              "      <th>Day of Week</th>\n",
              "      <th></th>\n",
              "      <th></th>\n",
              "      <th></th>\n",
              "      <th></th>\n",
              "      <th></th>\n",
              "      <th></th>\n",
              "      <th></th>\n",
              "      <th></th>\n",
              "      <th></th>\n",
              "      <th></th>\n",
              "      <th></th>\n",
              "      <th></th>\n",
              "      <th></th>\n",
              "      <th></th>\n",
              "      <th></th>\n",
              "      <th></th>\n",
              "      <th></th>\n",
              "      <th></th>\n",
              "      <th></th>\n",
              "      <th></th>\n",
              "      <th></th>\n",
              "    </tr>\n",
              "  </thead>\n",
              "  <tbody>\n",
              "    <tr>\n",
              "      <th>Fri</th>\n",
              "      <td>275</td>\n",
              "      <td>235</td>\n",
              "      <td>191</td>\n",
              "      <td>175</td>\n",
              "      <td>201</td>\n",
              "      <td>194</td>\n",
              "      <td>372</td>\n",
              "      <td>598</td>\n",
              "      <td>742</td>\n",
              "      <td>752</td>\n",
              "      <td>...</td>\n",
              "      <td>932</td>\n",
              "      <td>980</td>\n",
              "      <td>1039</td>\n",
              "      <td>980</td>\n",
              "      <td>820</td>\n",
              "      <td>696</td>\n",
              "      <td>667</td>\n",
              "      <td>559</td>\n",
              "      <td>514</td>\n",
              "      <td>474</td>\n",
              "    </tr>\n",
              "    <tr>\n",
              "      <th>Mon</th>\n",
              "      <td>282</td>\n",
              "      <td>221</td>\n",
              "      <td>201</td>\n",
              "      <td>194</td>\n",
              "      <td>204</td>\n",
              "      <td>267</td>\n",
              "      <td>397</td>\n",
              "      <td>653</td>\n",
              "      <td>819</td>\n",
              "      <td>786</td>\n",
              "      <td>...</td>\n",
              "      <td>869</td>\n",
              "      <td>913</td>\n",
              "      <td>989</td>\n",
              "      <td>997</td>\n",
              "      <td>885</td>\n",
              "      <td>746</td>\n",
              "      <td>613</td>\n",
              "      <td>497</td>\n",
              "      <td>472</td>\n",
              "      <td>325</td>\n",
              "    </tr>\n",
              "    <tr>\n",
              "      <th>Sat</th>\n",
              "      <td>375</td>\n",
              "      <td>301</td>\n",
              "      <td>263</td>\n",
              "      <td>260</td>\n",
              "      <td>224</td>\n",
              "      <td>231</td>\n",
              "      <td>257</td>\n",
              "      <td>391</td>\n",
              "      <td>459</td>\n",
              "      <td>640</td>\n",
              "      <td>...</td>\n",
              "      <td>789</td>\n",
              "      <td>796</td>\n",
              "      <td>848</td>\n",
              "      <td>757</td>\n",
              "      <td>778</td>\n",
              "      <td>696</td>\n",
              "      <td>628</td>\n",
              "      <td>572</td>\n",
              "      <td>506</td>\n",
              "      <td>467</td>\n",
              "    </tr>\n",
              "    <tr>\n",
              "      <th>Sun</th>\n",
              "      <td>383</td>\n",
              "      <td>306</td>\n",
              "      <td>286</td>\n",
              "      <td>268</td>\n",
              "      <td>242</td>\n",
              "      <td>240</td>\n",
              "      <td>300</td>\n",
              "      <td>402</td>\n",
              "      <td>483</td>\n",
              "      <td>620</td>\n",
              "      <td>...</td>\n",
              "      <td>684</td>\n",
              "      <td>691</td>\n",
              "      <td>663</td>\n",
              "      <td>714</td>\n",
              "      <td>670</td>\n",
              "      <td>655</td>\n",
              "      <td>537</td>\n",
              "      <td>461</td>\n",
              "      <td>415</td>\n",
              "      <td>330</td>\n",
              "    </tr>\n",
              "    <tr>\n",
              "      <th>Thu</th>\n",
              "      <td>278</td>\n",
              "      <td>202</td>\n",
              "      <td>233</td>\n",
              "      <td>159</td>\n",
              "      <td>182</td>\n",
              "      <td>203</td>\n",
              "      <td>362</td>\n",
              "      <td>570</td>\n",
              "      <td>777</td>\n",
              "      <td>828</td>\n",
              "      <td>...</td>\n",
              "      <td>876</td>\n",
              "      <td>969</td>\n",
              "      <td>935</td>\n",
              "      <td>1013</td>\n",
              "      <td>810</td>\n",
              "      <td>698</td>\n",
              "      <td>617</td>\n",
              "      <td>553</td>\n",
              "      <td>424</td>\n",
              "      <td>354</td>\n",
              "    </tr>\n",
              "  </tbody>\n",
              "</table>\n",
              "<p>5 rows × 24 columns</p>\n",
              "</div>\n",
              "      <button class=\"colab-df-convert\" onclick=\"convertToInteractive('df-1f9b0419-8111-4a46-8f6f-1ae461c7d9bd')\"\n",
              "              title=\"Convert this dataframe to an interactive table.\"\n",
              "              style=\"display:none;\">\n",
              "\n",
              "  <svg xmlns=\"http://www.w3.org/2000/svg\" height=\"24px\"viewBox=\"0 0 24 24\"\n",
              "       width=\"24px\">\n",
              "    <path d=\"M0 0h24v24H0V0z\" fill=\"none\"/>\n",
              "    <path d=\"M18.56 5.44l.94 2.06.94-2.06 2.06-.94-2.06-.94-.94-2.06-.94 2.06-2.06.94zm-11 1L8.5 8.5l.94-2.06 2.06-.94-2.06-.94L8.5 2.5l-.94 2.06-2.06.94zm10 10l.94 2.06.94-2.06 2.06-.94-2.06-.94-.94-2.06-.94 2.06-2.06.94z\"/><path d=\"M17.41 7.96l-1.37-1.37c-.4-.4-.92-.59-1.43-.59-.52 0-1.04.2-1.43.59L10.3 9.45l-7.72 7.72c-.78.78-.78 2.05 0 2.83L4 21.41c.39.39.9.59 1.41.59.51 0 1.02-.2 1.41-.59l7.78-7.78 2.81-2.81c.8-.78.8-2.07 0-2.86zM5.41 20L4 18.59l7.72-7.72 1.47 1.35L5.41 20z\"/>\n",
              "  </svg>\n",
              "      </button>\n",
              "\n",
              "\n",
              "\n",
              "    <div id=\"df-d3aba742-97c1-4d9c-a3a8-a62a54d938ec\">\n",
              "      <button class=\"colab-df-quickchart\" onclick=\"quickchart('df-d3aba742-97c1-4d9c-a3a8-a62a54d938ec')\"\n",
              "              title=\"Suggest charts.\"\n",
              "              style=\"display:none;\">\n",
              "\n",
              "<svg xmlns=\"http://www.w3.org/2000/svg\" height=\"24px\"viewBox=\"0 0 24 24\"\n",
              "     width=\"24px\">\n",
              "    <g>\n",
              "        <path d=\"M19 3H5c-1.1 0-2 .9-2 2v14c0 1.1.9 2 2 2h14c1.1 0 2-.9 2-2V5c0-1.1-.9-2-2-2zM9 17H7v-7h2v7zm4 0h-2V7h2v10zm4 0h-2v-4h2v4z\"/>\n",
              "    </g>\n",
              "</svg>\n",
              "      </button>\n",
              "    </div>\n",
              "\n",
              "<style>\n",
              "  .colab-df-quickchart {\n",
              "    background-color: #E8F0FE;\n",
              "    border: none;\n",
              "    border-radius: 50%;\n",
              "    cursor: pointer;\n",
              "    display: none;\n",
              "    fill: #1967D2;\n",
              "    height: 32px;\n",
              "    padding: 0 0 0 0;\n",
              "    width: 32px;\n",
              "  }\n",
              "\n",
              "  .colab-df-quickchart:hover {\n",
              "    background-color: #E2EBFA;\n",
              "    box-shadow: 0px 1px 2px rgba(60, 64, 67, 0.3), 0px 1px 3px 1px rgba(60, 64, 67, 0.15);\n",
              "    fill: #174EA6;\n",
              "  }\n",
              "\n",
              "  [theme=dark] .colab-df-quickchart {\n",
              "    background-color: #3B4455;\n",
              "    fill: #D2E3FC;\n",
              "  }\n",
              "\n",
              "  [theme=dark] .colab-df-quickchart:hover {\n",
              "    background-color: #434B5C;\n",
              "    box-shadow: 0px 1px 3px 1px rgba(0, 0, 0, 0.15);\n",
              "    filter: drop-shadow(0px 1px 2px rgba(0, 0, 0, 0.3));\n",
              "    fill: #FFFFFF;\n",
              "  }\n",
              "</style>\n",
              "\n",
              "    <script>\n",
              "      async function quickchart(key) {\n",
              "        const containerElement = document.querySelector('#' + key);\n",
              "        const charts = await google.colab.kernel.invokeFunction(\n",
              "            'suggestCharts', [key], {});\n",
              "      }\n",
              "    </script>\n",
              "\n",
              "      <script>\n",
              "\n",
              "function displayQuickchartButton(domScope) {\n",
              "  let quickchartButtonEl =\n",
              "    domScope.querySelector('#df-d3aba742-97c1-4d9c-a3a8-a62a54d938ec button.colab-df-quickchart');\n",
              "  quickchartButtonEl.style.display =\n",
              "    google.colab.kernel.accessAllowed ? 'block' : 'none';\n",
              "}\n",
              "\n",
              "        displayQuickchartButton(document);\n",
              "      </script>\n",
              "      <style>\n",
              "    .colab-df-container {\n",
              "      display:flex;\n",
              "      flex-wrap:wrap;\n",
              "      gap: 12px;\n",
              "    }\n",
              "\n",
              "    .colab-df-convert {\n",
              "      background-color: #E8F0FE;\n",
              "      border: none;\n",
              "      border-radius: 50%;\n",
              "      cursor: pointer;\n",
              "      display: none;\n",
              "      fill: #1967D2;\n",
              "      height: 32px;\n",
              "      padding: 0 0 0 0;\n",
              "      width: 32px;\n",
              "    }\n",
              "\n",
              "    .colab-df-convert:hover {\n",
              "      background-color: #E2EBFA;\n",
              "      box-shadow: 0px 1px 2px rgba(60, 64, 67, 0.3), 0px 1px 3px 1px rgba(60, 64, 67, 0.15);\n",
              "      fill: #174EA6;\n",
              "    }\n",
              "\n",
              "    [theme=dark] .colab-df-convert {\n",
              "      background-color: #3B4455;\n",
              "      fill: #D2E3FC;\n",
              "    }\n",
              "\n",
              "    [theme=dark] .colab-df-convert:hover {\n",
              "      background-color: #434B5C;\n",
              "      box-shadow: 0px 1px 3px 1px rgba(0, 0, 0, 0.15);\n",
              "      filter: drop-shadow(0px 1px 2px rgba(0, 0, 0, 0.3));\n",
              "      fill: #FFFFFF;\n",
              "    }\n",
              "  </style>\n",
              "\n",
              "      <script>\n",
              "        const buttonEl =\n",
              "          document.querySelector('#df-1f9b0419-8111-4a46-8f6f-1ae461c7d9bd button.colab-df-convert');\n",
              "        buttonEl.style.display =\n",
              "          google.colab.kernel.accessAllowed ? 'block' : 'none';\n",
              "\n",
              "        async function convertToInteractive(key) {\n",
              "          const element = document.querySelector('#df-1f9b0419-8111-4a46-8f6f-1ae461c7d9bd');\n",
              "          const dataTable =\n",
              "            await google.colab.kernel.invokeFunction('convertToInteractive',\n",
              "                                                     [key], {});\n",
              "          if (!dataTable) return;\n",
              "\n",
              "          const docLinkHtml = 'Like what you see? Visit the ' +\n",
              "            '<a target=\"_blank\" href=https://colab.research.google.com/notebooks/data_table.ipynb>data table notebook</a>'\n",
              "            + ' to learn more about interactive tables.';\n",
              "          element.innerHTML = '';\n",
              "          dataTable['output_type'] = 'display_data';\n",
              "          await google.colab.output.renderOutput(dataTable, element);\n",
              "          const docLink = document.createElement('div');\n",
              "          docLink.innerHTML = docLinkHtml;\n",
              "          element.appendChild(docLink);\n",
              "        }\n",
              "      </script>\n",
              "    </div>\n",
              "  </div>\n"
            ]
          },
          "metadata": {},
          "execution_count": 76
        }
      ]
    },
    {
      "cell_type": "markdown",
      "metadata": {
        "collapsed": false,
        "id": "lz1LVLn8fkbq"
      },
      "source": [
        "** Now create a HeatMap using this new DataFrame. **"
      ]
    },
    {
      "cell_type": "code",
      "source": [
        "sns.heatmap(data=dayHour,cmap='viridis')"
      ],
      "metadata": {
        "colab": {
          "base_uri": "https://localhost:8080/",
          "height": 470
        },
        "id": "gyveioTfg_gc",
        "outputId": "fe973ce3-b2da-40dd-e974-0223efbb737e"
      },
      "execution_count": 80,
      "outputs": [
        {
          "output_type": "execute_result",
          "data": {
            "text/plain": [
              "<Axes: xlabel='Hour', ylabel='Day of Week'>"
            ]
          },
          "metadata": {},
          "execution_count": 80
        },
        {
          "output_type": "display_data",
          "data": {
            "text/plain": [
              "<Figure size 640x480 with 2 Axes>"
            ],
            "image/png": "[encoded data removed]"
          },
          "metadata": {}
        }
      ]
    },
    {
      "cell_type": "markdown",
      "metadata": {
        "collapsed": false,
        "id": "TpPUE9kvfkbq"
      },
      "source": [
        "** Now create a clustermap using this DataFrame. **"
      ]
    },
    {
      "cell_type": "code",
      "execution_count": 81,
      "metadata": {
        "id": "CaAcSLasfkbq",
        "outputId": "b56ea402-3950-44b8-a0d7-7367a3faec08",
        "colab": {
          "base_uri": "https://localhost:8080/",
          "height": 894
        }
      },
      "outputs": [
        {
          "output_type": "execute_result",
          "data": {
            "text/plain": [
              "<seaborn.matrix.ClusterGrid at 0x7e4badd2e9e0>"
            ]
          },
          "metadata": {},
          "execution_count": 81
        },
        {
          "output_type": "display_data",
          "data": {
            "text/plain": [
              "<Figure size 1000x1000 with 4 Axes>"
            ],
            "image/png": "[encoded data removed]"
          },
          "metadata": {}
        }
      ],
      "source": [
        "sns.clustermap(data=dayHour,cmap='viridis')"
      ]
    },
    {
      "cell_type": "markdown",
      "metadata": {
        "id": "U6rYr1E8fkbq"
      },
      "source": [
        "** Now repeat these same plots and operations, for a DataFrame that shows the Month as the column. **"
      ]
    },
    {
      "cell_type": "code",
      "execution_count": 82,
      "metadata": {
        "id": "dtuUFZ7Wfkbq",
        "outputId": "611cfded-239d-446b-fa8f-1fa2a2be2fb5",
        "colab": {
          "base_uri": "https://localhost:8080/",
          "height": 237
        }
      },
      "outputs": [
        {
          "output_type": "execute_result",
          "data": {
            "text/plain": [
              "Month          1     2     3     4     5     6     7     8     12\n",
              "Day of Week                                                      \n",
              "Fri          1970  1581  1525  1958  1730  1649  2045  1310  1065\n",
              "Mon          1727  1964  1535  1598  1779  1617  1692  1511  1257\n",
              "Sat          2291  1441  1266  1734  1444  1388  1695  1099   978\n",
              "Sun          1960  1229  1102  1488  1424  1333  1672  1021   907\n",
              "Thu          1584  1596  1900  1601  1590  2065  1646  1230  1266"
            ],
            "text/html": [
              "\n",
              "\n",
              "  <div id=\"df-66761c12-90e0-4ae3-ae31-4e3c0b83f351\">\n",
              "    <div class=\"colab-df-container\">\n",
              "      <div>\n",
              "<style scoped>\n",
              "    .dataframe tbody tr th:only-of-type {\n",
              "        vertical-align: middle;\n",
              "    }\n",
              "\n",
              "    .dataframe tbody tr th {\n",
              "        vertical-align: top;\n",
              "    }\n",
              "\n",
              "    .dataframe thead th {\n",
              "        text-align: right;\n",
              "    }\n",
              "</style>\n",
              "<table border=\"1\" class=\"dataframe\">\n",
              "  <thead>\n",
              "    <tr style=\"text-align: right;\">\n",
              "      <th>Month</th>\n",
              "      <th>1</th>\n",
              "      <th>2</th>\n",
              "      <th>3</th>\n",
              "      <th>4</th>\n",
              "      <th>5</th>\n",
              "      <th>6</th>\n",
              "      <th>7</th>\n",
              "      <th>8</th>\n",
              "      <th>12</th>\n",
              "    </tr>\n",
              "    <tr>\n",
              "      <th>Day of Week</th>\n",
              "      <th></th>\n",
              "      <th></th>\n",
              "      <th></th>\n",
              "      <th></th>\n",
              "      <th></th>\n",
              "      <th></th>\n",
              "      <th></th>\n",
              "      <th></th>\n",
              "      <th></th>\n",
              "    </tr>\n",
              "  </thead>\n",
              "  <tbody>\n",
              "    <tr>\n",
              "      <th>Fri</th>\n",
              "      <td>1970</td>\n",
              "      <td>1581</td>\n",
              "      <td>1525</td>\n",
              "      <td>1958</td>\n",
              "      <td>1730</td>\n",
              "      <td>1649</td>\n",
              "      <td>2045</td>\n",
              "      <td>1310</td>\n",
              "      <td>1065</td>\n",
              "    </tr>\n",
              "    <tr>\n",
              "      <th>Mon</th>\n",
              "      <td>1727</td>\n",
              "      <td>1964</td>\n",
              "      <td>1535</td>\n",
              "      <td>1598</td>\n",
              "      <td>1779</td>\n",
              "      <td>1617</td>\n",
              "      <td>1692</td>\n",
              "      <td>1511</td>\n",
              "      <td>1257</td>\n",
              "    </tr>\n",
              "    <tr>\n",
              "      <th>Sat</th>\n",
              "      <td>2291</td>\n",
              "      <td>1441</td>\n",
              "      <td>1266</td>\n",
              "      <td>1734</td>\n",
              "      <td>1444</td>\n",
              "      <td>1388</td>\n",
              "      <td>1695</td>\n",
              "      <td>1099</td>\n",
              "      <td>978</td>\n",
              "    </tr>\n",
              "    <tr>\n",
              "      <th>Sun</th>\n",
              "      <td>1960</td>\n",
              "      <td>1229</td>\n",
              "      <td>1102</td>\n",
              "      <td>1488</td>\n",
              "      <td>1424</td>\n",
              "      <td>1333</td>\n",
              "      <td>1672</td>\n",
              "      <td>1021</td>\n",
              "      <td>907</td>\n",
              "    </tr>\n",
              "    <tr>\n",
              "      <th>Thu</th>\n",
              "      <td>1584</td>\n",
              "      <td>1596</td>\n",
              "      <td>1900</td>\n",
              "      <td>1601</td>\n",
              "      <td>1590</td>\n",
              "      <td>2065</td>\n",
              "      <td>1646</td>\n",
              "      <td>1230</td>\n",
              "      <td>1266</td>\n",
              "    </tr>\n",
              "  </tbody>\n",
              "</table>\n",
              "</div>\n",
              "      <button class=\"colab-df-convert\" onclick=\"convertToInteractive('df-66761c12-90e0-4ae3-ae31-4e3c0b83f351')\"\n",
              "              title=\"Convert this dataframe to an interactive table.\"\n",
              "              style=\"display:none;\">\n",
              "\n",
              "  <svg xmlns=\"http://www.w3.org/2000/svg\" height=\"24px\"viewBox=\"0 0 24 24\"\n",
              "       width=\"24px\">\n",
              "    <path d=\"M0 0h24v24H0V0z\" fill=\"none\"/>\n",
              "    <path d=\"M18.56 5.44l.94 2.06.94-2.06 2.06-.94-2.06-.94-.94-2.06-.94 2.06-2.06.94zm-11 1L8.5 8.5l.94-2.06 2.06-.94-2.06-.94L8.5 2.5l-.94 2.06-2.06.94zm10 10l.94 2.06.94-2.06 2.06-.94-2.06-.94-.94-2.06-.94 2.06-2.06.94z\"/><path d=\"M17.41 7.96l-1.37-1.37c-.4-.4-.92-.59-1.43-.59-.52 0-1.04.2-1.43.59L10.3 9.45l-7.72 7.72c-.78.78-.78 2.05 0 2.83L4 21.41c.39.39.9.59 1.41.59.51 0 1.02-.2 1.41-.59l7.78-7.78 2.81-2.81c.8-.78.8-2.07 0-2.86zM5.41 20L4 18.59l7.72-7.72 1.47 1.35L5.41 20z\"/>\n",
              "  </svg>\n",
              "      </button>\n",
              "\n",
              "\n",
              "\n",
              "    <div id=\"df-9e44a7a9-af42-418e-849d-af37a6aa7989\">\n",
              "      <button class=\"colab-df-quickchart\" onclick=\"quickchart('df-9e44a7a9-af42-418e-849d-af37a6aa7989')\"\n",
              "              title=\"Suggest charts.\"\n",
              "              style=\"display:none;\">\n",
              "\n",
              "<svg xmlns=\"http://www.w3.org/2000/svg\" height=\"24px\"viewBox=\"0 0 24 24\"\n",
              "     width=\"24px\">\n",
              "    <g>\n",
              "        <path d=\"M19 3H5c-1.1 0-2 .9-2 2v14c0 1.1.9 2 2 2h14c1.1 0 2-.9 2-2V5c0-1.1-.9-2-2-2zM9 17H7v-7h2v7zm4 0h-2V7h2v10zm4 0h-2v-4h2v4z\"/>\n",
              "    </g>\n",
              "</svg>\n",
              "      </button>\n",
              "    </div>\n",
              "\n",
              "<style>\n",
              "  .colab-df-quickchart {\n",
              "    background-color: #E8F0FE;\n",
              "    border: none;\n",
              "    border-radius: 50%;\n",
              "    cursor: pointer;\n",
              "    display: none;\n",
              "    fill: #1967D2;\n",
              "    height: 32px;\n",
              "    padding: 0 0 0 0;\n",
              "    width: 32px;\n",
              "  }\n",
              "\n",
              "  .colab-df-quickchart:hover {\n",
              "    background-color: #E2EBFA;\n",
              "    box-shadow: 0px 1px 2px rgba(60, 64, 67, 0.3), 0px 1px 3px 1px rgba(60, 64, 67, 0.15);\n",
              "    fill: #174EA6;\n",
              "  }\n",
              "\n",
              "  [theme=dark] .colab-df-quickchart {\n",
              "    background-color: #3B4455;\n",
              "    fill: #D2E3FC;\n",
              "  }\n",
              "\n",
              "  [theme=dark] .colab-df-quickchart:hover {\n",
              "    background-color: #434B5C;\n",
              "    box-shadow: 0px 1px 3px 1px rgba(0, 0, 0, 0.15);\n",
              "    filter: drop-shadow(0px 1px 2px rgba(0, 0, 0, 0.3));\n",
              "    fill: #FFFFFF;\n",
              "  }\n",
              "</style>\n",
              "\n",
              "    <script>\n",
              "      async function quickchart(key) {\n",
              "        const containerElement = document.querySelector('#' + key);\n",
              "        const charts = await google.colab.kernel.invokeFunction(\n",
              "            'suggestCharts', [key], {});\n",
              "      }\n",
              "    </script>\n",
              "\n",
              "      <script>\n",
              "\n",
              "function displayQuickchartButton(domScope) {\n",
              "  let quickchartButtonEl =\n",
              "    domScope.querySelector('#df-9e44a7a9-af42-418e-849d-af37a6aa7989 button.colab-df-quickchart');\n",
              "  quickchartButtonEl.style.display =\n",
              "    google.colab.kernel.accessAllowed ? 'block' : 'none';\n",
              "}\n",
              "\n",
              "        displayQuickchartButton(document);\n",
              "      </script>\n",
              "      <style>\n",
              "    .colab-df-container {\n",
              "      display:flex;\n",
              "      flex-wrap:wrap;\n",
              "      gap: 12px;\n",
              "    }\n",
              "\n",
              "    .colab-df-convert {\n",
              "      background-color: #E8F0FE;\n",
              "      border: none;\n",
              "      border-radius: 50%;\n",
              "      cursor: pointer;\n",
              "      display: none;\n",
              "      fill: #1967D2;\n",
              "      height: 32px;\n",
              "      padding: 0 0 0 0;\n",
              "      width: 32px;\n",
              "    }\n",
              "\n",
              "    .colab-df-convert:hover {\n",
              "      background-color: #E2EBFA;\n",
              "      box-shadow: 0px 1px 2px rgba(60, 64, 67, 0.3), 0px 1px 3px 1px rgba(60, 64, 67, 0.15);\n",
              "      fill: #174EA6;\n",
              "    }\n",
              "\n",
              "    [theme=dark] .colab-df-convert {\n",
              "      background-color: #3B4455;\n",
              "      fill: #D2E3FC;\n",
              "    }\n",
              "\n",
              "    [theme=dark] .colab-df-convert:hover {\n",
              "      background-color: #434B5C;\n",
              "      box-shadow: 0px 1px 3px 1px rgba(0, 0, 0, 0.15);\n",
              "      filter: drop-shadow(0px 1px 2px rgba(0, 0, 0, 0.3));\n",
              "      fill: #FFFFFF;\n",
              "    }\n",
              "  </style>\n",
              "\n",
              "      <script>\n",
              "        const buttonEl =\n",
              "          document.querySelector('#df-66761c12-90e0-4ae3-ae31-4e3c0b83f351 button.colab-df-convert');\n",
              "        buttonEl.style.display =\n",
              "          google.colab.kernel.accessAllowed ? 'block' : 'none';\n",
              "\n",
              "        async function convertToInteractive(key) {\n",
              "          const element = document.querySelector('#df-66761c12-90e0-4ae3-ae31-4e3c0b83f351');\n",
              "          const dataTable =\n",
              "            await google.colab.kernel.invokeFunction('convertToInteractive',\n",
              "                                                     [key], {});\n",
              "          if (!dataTable) return;\n",
              "\n",
              "          const docLinkHtml = 'Like what you see? Visit the ' +\n",
              "            '<a target=\"_blank\" href=https://colab.research.google.com/notebooks/data_table.ipynb>data table notebook</a>'\n",
              "            + ' to learn more about interactive tables.';\n",
              "          element.innerHTML = '';\n",
              "          dataTable['output_type'] = 'display_data';\n",
              "          await google.colab.output.renderOutput(dataTable, element);\n",
              "          const docLink = document.createElement('div');\n",
              "          docLink.innerHTML = docLinkHtml;\n",
              "          element.appendChild(docLink);\n",
              "        }\n",
              "      </script>\n",
              "    </div>\n",
              "  </div>\n"
            ]
          },
          "metadata": {},
          "execution_count": 82
        }
      ],
      "source": [
        "dayMonth = df.groupby(by=['Day of Week','Month']).count()['Reason'].unstack()\n",
        "dayMonth.head()"
      ]
    },
    {
      "cell_type": "code",
      "execution_count": 85,
      "metadata": {
        "id": "vONV81NPfkbq",
        "outputId": "1f68a8eb-28cd-4966-88c4-3c6e22ab1c35",
        "colab": {
          "base_uri": "https://localhost:8080/",
          "height": 894
        }
      },
      "outputs": [
        {
          "output_type": "execute_result",
          "data": {
            "text/plain": [
              "<seaborn.matrix.ClusterGrid at 0x7e4bad79d8d0>"
            ]
          },
          "metadata": {},
          "execution_count": 85
        },
        {
          "output_type": "display_data",
          "data": {
            "text/plain": [
              "<Figure size 1000x1000 with 4 Axes>"
            ],
            "image/png": "[encoded data removed]"
          },
          "metadata": {}
        }
      ],
      "source": [
        "sns.clustermap(data=dayMonth,cmap='viridis')"
      ]
    },
    {
      "cell_type": "code",
      "execution_count": 84,
      "metadata": {
        "id": "9l-x_v9Bfkbq",
        "outputId": "23cfa760-ac5f-440a-860e-16dfed216c55",
        "colab": {
          "base_uri": "https://localhost:8080/",
          "height": 894
        }
      },
      "outputs": [
        {
          "output_type": "execute_result",
          "data": {
            "text/plain": [
              "<seaborn.matrix.ClusterGrid at 0x7e4bb0371810>"
            ]
          },
          "metadata": {},
          "execution_count": 84
        },
        {
          "output_type": "display_data",
          "data": {
            "text/plain": [
              "<Figure size 1000x1000 with 4 Axes>"
            ],
            "image/png": "[encoded data removed]"
          },
          "metadata": {}
        }
      ],
      "source": [
        "sns.clustermap(data=dayMonth,cmap='viridis')"
      ]
    },
    {
      "cell_type": "markdown",
      "metadata": {
        "collapsed": true,
        "id": "WZpwYSDCfkbq"
      },
"source": [
        "**Continue exploring the Data however you see fit!**\n",
        "# Great Job!"
      ]
      
    }
  ],
  "metadata": {
    "kernelspec": {
      "display_name": "Python 3",
      "language": "python",
      "name": "python3"
    },
    "language_info": {
      "codemirror_mode": {
        "name": "ipython",
        "version": 3
      },
      "file_extension": ".py",
      "mimetype": "text/x-python",
      "name": "python",
      "nbconvert_exporter": "python",
      "pygments_lexer": "ipython3",
      "version": "3.5.1"
    },
    "colab": {
      "provenance": []
    }
  },
  "nbformat": 4,
  "nbformat_minor": 0
}
